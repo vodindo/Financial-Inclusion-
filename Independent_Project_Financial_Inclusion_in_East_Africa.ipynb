{
  "nbformat": 4,
  "nbformat_minor": 0,
  "metadata": {
    "colab": {
      "name": "Independent Project - Financial Inclusion in East Africa ",
      "provenance": [],
      "collapsed_sections": [],
      "authorship_tag": "ABX9TyPc7VgrGBewFPcFumQmB8OI",
      "include_colab_link": true
    },
    "kernelspec": {
      "name": "python3",
      "display_name": "Python 3"
    },
    "language_info": {
      "name": "python"
    }
  },
  "cells": [
    {
      "cell_type": "markdown",
      "metadata": {
        "id": "view-in-github",
        "colab_type": "text"
      },
      "source": [
        "<a href=\"https://colab.research.google.com/github/vodindo/Financial-Inclusion-/blob/main/Independent_Project_Financial_Inclusion_in_East_Africa.ipynb\" target=\"_parent\"><img src=\"https://colab.research.google.com/assets/colab-badge.svg\" alt=\"Open In Colab\"/></a>"
      ]
    },
    {
      "cell_type": "markdown",
      "metadata": {
        "id": "ghptl1WcFIo5"
      },
      "source": [
        "# Independent Project : Descriptive Statistics"
      ]
    },
    {
      "cell_type": "markdown",
      "metadata": {
        "id": "5ZcNh1zHJ3nW"
      },
      "source": [
        "**Financial Inclusion in East Africa**"
      ]
    },
    {
      "cell_type": "markdown",
      "metadata": {
        "id": "BtgYom2EKEXl"
      },
      "source": [
        "**Research Question**\n",
        "\n",
        "\n",
        "\n"
      ]
    },
    {
      "cell_type": "markdown",
      "metadata": {
        "id": "0r57NY9rLLVx"
      },
      "source": [
        "To establish the demographic factors that determine whether an individual has or uses a bank account. The variables that are significant either negatively or positively will be tested in determining their relationship with the dependent variable (has a bank account or not)"
      ]
    },
    {
      "cell_type": "markdown",
      "metadata": {
        "id": "buRVseeuMH7d"
      },
      "source": [
        "Metric for Success "
      ]
    },
    {
      "cell_type": "markdown",
      "metadata": {
        "id": "5MHmgX2uMlas"
      },
      "source": [
        " 1. Establishment of some of the key demographic factors that drives an individiual financial outcomes \n",
        " 2. Factors that determine financial inclusion in Kenya \n",
        " 3. Have a model with an acceptable level of accuracy prediction of those with(out) bank accounts."
      ]
    },
    {
      "cell_type": "markdown",
      "metadata": {
        "id": "LRtfn2rnNds-"
      },
      "source": [
        "Understanding the Context \n",
        "\n",
        "Access to bank accounts has been regarded as an indicator of financial inclusion. Despite the proliferation of mobile money in Africa and the growth of innovative fintech solutions, banks still play a pivotal role in facilitating access to financial services. Access to bank accounts enables households to save and facilitate payments while also helping businesses build up their credit-worthiness and improve their access to other financial services. Therefore, access to bank accounts is an essential contributor to long-term economic growth."
      ]
    },
    {
      "cell_type": "markdown",
      "metadata": {
        "id": "Gzc7YqDROIsz"
      },
      "source": [
        "Recording the Experimental Design \n",
        "\n",
        "1. Loading the Dataset\n",
        "2. Checking the shape, top, bottom and type of the dataset \n",
        "3. External data source validation \n",
        "4. Data cleaning \n",
        "5. Exploratory Data Analysis(EDA)\n",
        "  a) Univariate EDA \n",
        "  b) Bivariate EDA - Analysis by country and demographic factors \n",
        "  c) Multivariate EDA"
      ]
    },
    {
      "cell_type": "markdown",
      "metadata": {
        "id": "52ZdiwqbPNKT"
      },
      "source": [
        "**Appropriatness of available data**\n",
        "\n",
        "The data provided is considered appropriate as it contains the variables that are considered to perform the analysis"
      ]
    },
    {
      "cell_type": "markdown",
      "metadata": {
        "id": "HZsFrzKMQZHq"
      },
      "source": [
        "Importing the libraries "
      ]
    },
    {
      "cell_type": "code",
      "metadata": {
        "id": "JczPvofQFSCE"
      },
      "source": [
        "import pandas as pd\n",
        "import numpy as np\n",
        "import seaborn as sns\n",
        "import matplotlib.pyplot as plt"
      ],
      "execution_count": null,
      "outputs": []
    },
    {
      "cell_type": "markdown",
      "metadata": {
        "id": "O5eZ43TuQwUq"
      },
      "source": [
        "\n",
        "Load datasets to be used for the EDA "
      ]
    },
    {
      "cell_type": "code",
      "metadata": {
        "colab": {
          "base_uri": "https://localhost:8080/",
          "height": 425
        },
        "id": "3xOS-l_xQ26j",
        "outputId": "28ce0c11-debd-4f73-b19c-a9f47ef67468"
      },
      "source": [
        "#Load Dataset that describes the dataset.\n",
        "\n",
        "Dataset = pd.read_csv('http://bit.ly/VariableDefinitions')\n",
        "Dataset"
      ],
      "execution_count": null,
      "outputs": [
        {
          "output_type": "execute_result",
          "data": {
            "text/html": [
              "<div>\n",
              "<style scoped>\n",
              "    .dataframe tbody tr th:only-of-type {\n",
              "        vertical-align: middle;\n",
              "    }\n",
              "\n",
              "    .dataframe tbody tr th {\n",
              "        vertical-align: top;\n",
              "    }\n",
              "\n",
              "    .dataframe thead th {\n",
              "        text-align: right;\n",
              "    }\n",
              "</style>\n",
              "<table border=\"1\" class=\"dataframe\">\n",
              "  <thead>\n",
              "    <tr style=\"text-align: right;\">\n",
              "      <th></th>\n",
              "      <th>Variable Definitions</th>\n",
              "      <th>Unnamed: 1</th>\n",
              "    </tr>\n",
              "  </thead>\n",
              "  <tbody>\n",
              "    <tr>\n",
              "      <th>0</th>\n",
              "      <td>country</td>\n",
              "      <td>Country interviewee is in.</td>\n",
              "    </tr>\n",
              "    <tr>\n",
              "      <th>1</th>\n",
              "      <td>year</td>\n",
              "      <td>Year survey was done in.</td>\n",
              "    </tr>\n",
              "    <tr>\n",
              "      <th>2</th>\n",
              "      <td>uniqueid</td>\n",
              "      <td>Unique identifier for each interviewee</td>\n",
              "    </tr>\n",
              "    <tr>\n",
              "      <th>3</th>\n",
              "      <td>location_type</td>\n",
              "      <td>Type of location: Rural, Urban</td>\n",
              "    </tr>\n",
              "    <tr>\n",
              "      <th>4</th>\n",
              "      <td>cellphone_access</td>\n",
              "      <td>If interviewee has access to a cellphone: Yes, No</td>\n",
              "    </tr>\n",
              "    <tr>\n",
              "      <th>5</th>\n",
              "      <td>household_size</td>\n",
              "      <td>Number of people living in one house</td>\n",
              "    </tr>\n",
              "    <tr>\n",
              "      <th>6</th>\n",
              "      <td>age_of_respondent</td>\n",
              "      <td>The age of the interviewee</td>\n",
              "    </tr>\n",
              "    <tr>\n",
              "      <th>7</th>\n",
              "      <td>gender_of_respondent</td>\n",
              "      <td>Gender of interviewee: Male, Female</td>\n",
              "    </tr>\n",
              "    <tr>\n",
              "      <th>8</th>\n",
              "      <td>relationship_with_head</td>\n",
              "      <td>The interviewee’s relationship with the head o...</td>\n",
              "    </tr>\n",
              "    <tr>\n",
              "      <th>9</th>\n",
              "      <td>marital_status</td>\n",
              "      <td>The martial status of the interviewee: Married...</td>\n",
              "    </tr>\n",
              "    <tr>\n",
              "      <th>10</th>\n",
              "      <td>education_level</td>\n",
              "      <td>Highest level of education: No formal educatio...</td>\n",
              "    </tr>\n",
              "    <tr>\n",
              "      <th>11</th>\n",
              "      <td>job_type</td>\n",
              "      <td>Type of job interviewee has: Farming and Fishi...</td>\n",
              "    </tr>\n",
              "  </tbody>\n",
              "</table>\n",
              "</div>"
            ],
            "text/plain": [
              "      Variable Definitions                                         Unnamed: 1\n",
              "0                  country                         Country interviewee is in.\n",
              "1                     year                           Year survey was done in.\n",
              "2                 uniqueid             Unique identifier for each interviewee\n",
              "3            location_type                     Type of location: Rural, Urban\n",
              "4         cellphone_access  If interviewee has access to a cellphone: Yes, No\n",
              "5           household_size               Number of people living in one house\n",
              "6        age_of_respondent                         The age of the interviewee\n",
              "7     gender_of_respondent                Gender of interviewee: Male, Female\n",
              "8   relationship_with_head  The interviewee’s relationship with the head o...\n",
              "9           marital_status  The martial status of the interviewee: Married...\n",
              "10         education_level  Highest level of education: No formal educatio...\n",
              "11                job_type  Type of job interviewee has: Farming and Fishi..."
            ]
          },
          "metadata": {},
          "execution_count": 5
        }
      ]
    },
    {
      "cell_type": "code",
      "metadata": {
        "colab": {
          "base_uri": "https://localhost:8080/",
          "height": 382
        },
        "id": "bVdEXvUKRPX6",
        "outputId": "412037b2-8f45-4133-977c-9e1aa7cf5883"
      },
      "source": [
        "#Load the Financial Dataset and previewing the head \n",
        "\n",
        "FinancialDataset = pd.read_csv('http://bit.ly/FinancialDataset')\n",
        "FinancialDataset.head()"
      ],
      "execution_count": null,
      "outputs": [
        {
          "output_type": "execute_result",
          "data": {
            "text/html": [
              "<div>\n",
              "<style scoped>\n",
              "    .dataframe tbody tr th:only-of-type {\n",
              "        vertical-align: middle;\n",
              "    }\n",
              "\n",
              "    .dataframe tbody tr th {\n",
              "        vertical-align: top;\n",
              "    }\n",
              "\n",
              "    .dataframe thead th {\n",
              "        text-align: right;\n",
              "    }\n",
              "</style>\n",
              "<table border=\"1\" class=\"dataframe\">\n",
              "  <thead>\n",
              "    <tr style=\"text-align: right;\">\n",
              "      <th></th>\n",
              "      <th>country</th>\n",
              "      <th>year</th>\n",
              "      <th>uniqueid</th>\n",
              "      <th>Has a Bank account</th>\n",
              "      <th>Type of Location</th>\n",
              "      <th>Cell Phone Access</th>\n",
              "      <th>household_size</th>\n",
              "      <th>Respondent Age</th>\n",
              "      <th>gender_of_respondent</th>\n",
              "      <th>The relathip with head</th>\n",
              "      <th>marital_status</th>\n",
              "      <th>Level of Educuation</th>\n",
              "      <th>Type of Job</th>\n",
              "    </tr>\n",
              "  </thead>\n",
              "  <tbody>\n",
              "    <tr>\n",
              "      <th>0</th>\n",
              "      <td>Kenya</td>\n",
              "      <td>2018</td>\n",
              "      <td>uniqueid_1</td>\n",
              "      <td>Yes</td>\n",
              "      <td>Rural</td>\n",
              "      <td>Yes</td>\n",
              "      <td>3.0</td>\n",
              "      <td>24.0</td>\n",
              "      <td>Female</td>\n",
              "      <td>Spouse</td>\n",
              "      <td>Married/Living together</td>\n",
              "      <td>Secondary education</td>\n",
              "      <td>Self employed</td>\n",
              "    </tr>\n",
              "    <tr>\n",
              "      <th>1</th>\n",
              "      <td>Kenya</td>\n",
              "      <td>2018</td>\n",
              "      <td>uniqueid_2</td>\n",
              "      <td>No</td>\n",
              "      <td>Rural</td>\n",
              "      <td>No</td>\n",
              "      <td>5.0</td>\n",
              "      <td>70.0</td>\n",
              "      <td>Female</td>\n",
              "      <td>Head of Household</td>\n",
              "      <td>Widowed</td>\n",
              "      <td>No formal education</td>\n",
              "      <td>Government Dependent</td>\n",
              "    </tr>\n",
              "    <tr>\n",
              "      <th>2</th>\n",
              "      <td>Kenya</td>\n",
              "      <td>2018</td>\n",
              "      <td>uniqueid_3</td>\n",
              "      <td>Yes</td>\n",
              "      <td>Urban</td>\n",
              "      <td>Yes</td>\n",
              "      <td>5.0</td>\n",
              "      <td>26.0</td>\n",
              "      <td>Male</td>\n",
              "      <td>Other relative</td>\n",
              "      <td>Single/Never Married</td>\n",
              "      <td>Vocational/Specialised training</td>\n",
              "      <td>Self employed</td>\n",
              "    </tr>\n",
              "    <tr>\n",
              "      <th>3</th>\n",
              "      <td>Kenya</td>\n",
              "      <td>2018</td>\n",
              "      <td>uniqueid_4</td>\n",
              "      <td>No</td>\n",
              "      <td>Rural</td>\n",
              "      <td>Yes</td>\n",
              "      <td>5.0</td>\n",
              "      <td>34.0</td>\n",
              "      <td>Female</td>\n",
              "      <td>Head of Household</td>\n",
              "      <td>Married/Living together</td>\n",
              "      <td>Primary education</td>\n",
              "      <td>Formally employed Private</td>\n",
              "    </tr>\n",
              "    <tr>\n",
              "      <th>4</th>\n",
              "      <td>Kenya</td>\n",
              "      <td>2018</td>\n",
              "      <td>uniqueid_5</td>\n",
              "      <td>No</td>\n",
              "      <td>Urban</td>\n",
              "      <td>No</td>\n",
              "      <td>8.0</td>\n",
              "      <td>26.0</td>\n",
              "      <td>Male</td>\n",
              "      <td>Child</td>\n",
              "      <td>Single/Never Married</td>\n",
              "      <td>Primary education</td>\n",
              "      <td>Informally employed</td>\n",
              "    </tr>\n",
              "  </tbody>\n",
              "</table>\n",
              "</div>"
            ],
            "text/plain": [
              "  country  year  ...              Level of Educuation                Type of Job\n",
              "0   Kenya  2018  ...              Secondary education              Self employed\n",
              "1   Kenya  2018  ...              No formal education       Government Dependent\n",
              "2   Kenya  2018  ...  Vocational/Specialised training              Self employed\n",
              "3   Kenya  2018  ...                Primary education  Formally employed Private\n",
              "4   Kenya  2018  ...                Primary education        Informally employed\n",
              "\n",
              "[5 rows x 13 columns]"
            ]
          },
          "metadata": {},
          "execution_count": 6
        }
      ]
    },
    {
      "cell_type": "code",
      "metadata": {
        "colab": {
          "base_uri": "https://localhost:8080/",
          "height": 365
        },
        "id": "jHzCYAjIRyPP",
        "outputId": "0aad1353-b66b-4684-e482-d32cff0a4694"
      },
      "source": [
        "# preview the bottom of the dataset\n",
        "FinancialDataset.tail()"
      ],
      "execution_count": null,
      "outputs": [
        {
          "output_type": "execute_result",
          "data": {
            "text/html": [
              "<div>\n",
              "<style scoped>\n",
              "    .dataframe tbody tr th:only-of-type {\n",
              "        vertical-align: middle;\n",
              "    }\n",
              "\n",
              "    .dataframe tbody tr th {\n",
              "        vertical-align: top;\n",
              "    }\n",
              "\n",
              "    .dataframe thead th {\n",
              "        text-align: right;\n",
              "    }\n",
              "</style>\n",
              "<table border=\"1\" class=\"dataframe\">\n",
              "  <thead>\n",
              "    <tr style=\"text-align: right;\">\n",
              "      <th></th>\n",
              "      <th>country</th>\n",
              "      <th>year</th>\n",
              "      <th>uniqueid</th>\n",
              "      <th>Has a Bank account</th>\n",
              "      <th>Type of Location</th>\n",
              "      <th>Cell Phone Access</th>\n",
              "      <th>household_size</th>\n",
              "      <th>Respondent Age</th>\n",
              "      <th>gender_of_respondent</th>\n",
              "      <th>The relathip with head</th>\n",
              "      <th>marital_status</th>\n",
              "      <th>Level of Educuation</th>\n",
              "      <th>Type of Job</th>\n",
              "    </tr>\n",
              "  </thead>\n",
              "  <tbody>\n",
              "    <tr>\n",
              "      <th>23519</th>\n",
              "      <td>Uganda</td>\n",
              "      <td>2018</td>\n",
              "      <td>uniqueid_2113</td>\n",
              "      <td>No</td>\n",
              "      <td>Rural</td>\n",
              "      <td>Yes</td>\n",
              "      <td>4.0</td>\n",
              "      <td>48.0</td>\n",
              "      <td>Female</td>\n",
              "      <td>Head of Household</td>\n",
              "      <td>Divorced/Seperated</td>\n",
              "      <td>No formal education</td>\n",
              "      <td>Other Income</td>\n",
              "    </tr>\n",
              "    <tr>\n",
              "      <th>23520</th>\n",
              "      <td>Uganda</td>\n",
              "      <td>2018</td>\n",
              "      <td>uniqueid_2114</td>\n",
              "      <td>No</td>\n",
              "      <td>Rural</td>\n",
              "      <td>Yes</td>\n",
              "      <td>2.0</td>\n",
              "      <td>27.0</td>\n",
              "      <td>Female</td>\n",
              "      <td>Head of Household</td>\n",
              "      <td>Single/Never Married</td>\n",
              "      <td>Secondary education</td>\n",
              "      <td>Other Income</td>\n",
              "    </tr>\n",
              "    <tr>\n",
              "      <th>23521</th>\n",
              "      <td>Uganda</td>\n",
              "      <td>2018</td>\n",
              "      <td>uniqueid_2115</td>\n",
              "      <td>No</td>\n",
              "      <td>Rural</td>\n",
              "      <td>Yes</td>\n",
              "      <td>5.0</td>\n",
              "      <td>27.0</td>\n",
              "      <td>Female</td>\n",
              "      <td>Parent</td>\n",
              "      <td>Widowed</td>\n",
              "      <td>Primary education</td>\n",
              "      <td>Other Income</td>\n",
              "    </tr>\n",
              "    <tr>\n",
              "      <th>23522</th>\n",
              "      <td>Uganda</td>\n",
              "      <td>2018</td>\n",
              "      <td>uniqueid_2116</td>\n",
              "      <td>No</td>\n",
              "      <td>Urban</td>\n",
              "      <td>Yes</td>\n",
              "      <td>7.0</td>\n",
              "      <td>30.0</td>\n",
              "      <td>Female</td>\n",
              "      <td>Parent</td>\n",
              "      <td>Divorced/Seperated</td>\n",
              "      <td>Secondary education</td>\n",
              "      <td>Self employed</td>\n",
              "    </tr>\n",
              "    <tr>\n",
              "      <th>23523</th>\n",
              "      <td>Uganda</td>\n",
              "      <td>2018</td>\n",
              "      <td>uniqueid_2117</td>\n",
              "      <td>No</td>\n",
              "      <td>Rural</td>\n",
              "      <td>Yes</td>\n",
              "      <td>10.0</td>\n",
              "      <td>20.0</td>\n",
              "      <td>Male</td>\n",
              "      <td>Child</td>\n",
              "      <td>Single/Never Married</td>\n",
              "      <td>Secondary education</td>\n",
              "      <td>No Income</td>\n",
              "    </tr>\n",
              "  </tbody>\n",
              "</table>\n",
              "</div>"
            ],
            "text/plain": [
              "      country  year  ...  Level of Educuation    Type of Job\n",
              "23519  Uganda  2018  ...  No formal education   Other Income\n",
              "23520  Uganda  2018  ...  Secondary education   Other Income\n",
              "23521  Uganda  2018  ...    Primary education   Other Income\n",
              "23522  Uganda  2018  ...  Secondary education  Self employed\n",
              "23523  Uganda  2018  ...  Secondary education      No Income\n",
              "\n",
              "[5 rows x 13 columns]"
            ]
          },
          "metadata": {},
          "execution_count": 7
        }
      ]
    },
    {
      "cell_type": "code",
      "metadata": {
        "id": "6gUMOdTPSFDr"
      },
      "source": [
        "\n",
        "FinancialDataset.columns = FinancialDataset.columns.str.lower().str.replace(' ', '_')"
      ],
      "execution_count": null,
      "outputs": []
    },
    {
      "cell_type": "code",
      "metadata": {
        "colab": {
          "base_uri": "https://localhost:8080/"
        },
        "id": "QuGMHA8vSgAT",
        "outputId": "0e4e02e3-b4ba-4463-9b60-7b5790891ce1"
      },
      "source": [
        "# Number of entries in each column, column data type\n",
        "\n",
        "FinancialDataset.info()"
      ],
      "execution_count": null,
      "outputs": [
        {
          "output_type": "stream",
          "name": "stdout",
          "text": [
            "<class 'pandas.core.frame.DataFrame'>\n",
            "RangeIndex: 23524 entries, 0 to 23523\n",
            "Data columns (total 13 columns):\n",
            " #   Column                  Non-Null Count  Dtype  \n",
            "---  ------                  --------------  -----  \n",
            " 0   country                 23510 non-null  object \n",
            " 1   year                    23524 non-null  int64  \n",
            " 2   uniqueid                23524 non-null  object \n",
            " 3   has_a_bank_account      23488 non-null  object \n",
            " 4   type_of_location        23509 non-null  object \n",
            " 5   cell_phone_access       23513 non-null  object \n",
            " 6   household_size          23496 non-null  float64\n",
            " 7   respondent_age          23490 non-null  float64\n",
            " 8   gender_of_respondent    23490 non-null  object \n",
            " 9   the_relathip_with_head  23520 non-null  object \n",
            " 10  marital_status          23492 non-null  object \n",
            " 11  level_of_educuation     23495 non-null  object \n",
            " 12  type_of_job             23494 non-null  object \n",
            "dtypes: float64(2), int64(1), object(10)\n",
            "memory usage: 2.3+ MB\n"
          ]
        }
      ]
    },
    {
      "cell_type": "code",
      "metadata": {
        "colab": {
          "base_uri": "https://localhost:8080/"
        },
        "id": "CVP5VyLmSwTS",
        "outputId": "086ef6e7-85b7-4f48-df60-750312507562"
      },
      "source": [
        "#Check for missing values.\n",
        "\n",
        "FinancialDataset.isnull().sum()"
      ],
      "execution_count": null,
      "outputs": [
        {
          "output_type": "execute_result",
          "data": {
            "text/plain": [
              "country                   14\n",
              "year                       0\n",
              "uniqueid                   0\n",
              "has_a_bank_account        36\n",
              "type_of_location          15\n",
              "cell_phone_access         11\n",
              "household_size            28\n",
              "respondent_age            34\n",
              "gender_of_respondent      34\n",
              "the_relathip_with_head     4\n",
              "marital_status            32\n",
              "level_of_educuation       29\n",
              "type_of_job               30\n",
              "dtype: int64"
            ]
          },
          "metadata": {},
          "execution_count": 10
        }
      ]
    },
    {
      "cell_type": "code",
      "metadata": {
        "id": "yFpSDvNOUBec"
      },
      "source": [
        "#Drop rows that contain any form of missing or null value that may result in inconsistencies \n",
        "\n",
        "FinancialDataset.dropna(inplace = True)"
      ],
      "execution_count": null,
      "outputs": []
    },
    {
      "cell_type": "code",
      "metadata": {
        "colab": {
          "base_uri": "https://localhost:8080/"
        },
        "id": "Pta6W0-yULTr",
        "outputId": "3528a77e-7c81-4db0-a485-d17db06b849e"
      },
      "source": [
        "#Confirm whether there is any null values. \n",
        "\n",
        "FinancialDataset.isnull().sum()"
      ],
      "execution_count": null,
      "outputs": [
        {
          "output_type": "execute_result",
          "data": {
            "text/plain": [
              "country                   0\n",
              "year                      0\n",
              "uniqueid                  0\n",
              "has_a_bank_account        0\n",
              "type_of_location          0\n",
              "cell_phone_access         0\n",
              "household_size            0\n",
              "respondent_age            0\n",
              "gender_of_respondent      0\n",
              "the_relathip_with_head    0\n",
              "marital_status            0\n",
              "level_of_educuation       0\n",
              "type_of_job               0\n",
              "dtype: int64"
            ]
          },
          "metadata": {},
          "execution_count": 12
        }
      ]
    },
    {
      "cell_type": "code",
      "metadata": {
        "colab": {
          "base_uri": "https://localhost:8080/",
          "height": 634
        },
        "id": "Su3GL5y7UWr0",
        "outputId": "17830b81-d6d7-455e-b0a5-f7d06c830fcf"
      },
      "source": [
        "#Drop irrelevant column(s)\n",
        "FinancialDataset.drop(['uniqueid','year'], axis=1, inplace=True)\n",
        "FinancialDataset"
      ],
      "execution_count": null,
      "outputs": [
        {
          "output_type": "execute_result",
          "data": {
            "text/html": [
              "<div>\n",
              "<style scoped>\n",
              "    .dataframe tbody tr th:only-of-type {\n",
              "        vertical-align: middle;\n",
              "    }\n",
              "\n",
              "    .dataframe tbody tr th {\n",
              "        vertical-align: top;\n",
              "    }\n",
              "\n",
              "    .dataframe thead th {\n",
              "        text-align: right;\n",
              "    }\n",
              "</style>\n",
              "<table border=\"1\" class=\"dataframe\">\n",
              "  <thead>\n",
              "    <tr style=\"text-align: right;\">\n",
              "      <th></th>\n",
              "      <th>country</th>\n",
              "      <th>has_a_bank_account</th>\n",
              "      <th>type_of_location</th>\n",
              "      <th>cell_phone_access</th>\n",
              "      <th>household_size</th>\n",
              "      <th>respondent_age</th>\n",
              "      <th>gender_of_respondent</th>\n",
              "      <th>the_relathip_with_head</th>\n",
              "      <th>marital_status</th>\n",
              "      <th>level_of_educuation</th>\n",
              "      <th>type_of_job</th>\n",
              "    </tr>\n",
              "  </thead>\n",
              "  <tbody>\n",
              "    <tr>\n",
              "      <th>0</th>\n",
              "      <td>Kenya</td>\n",
              "      <td>Yes</td>\n",
              "      <td>Rural</td>\n",
              "      <td>Yes</td>\n",
              "      <td>3.0</td>\n",
              "      <td>24.0</td>\n",
              "      <td>Female</td>\n",
              "      <td>Spouse</td>\n",
              "      <td>Married/Living together</td>\n",
              "      <td>Secondary education</td>\n",
              "      <td>Self employed</td>\n",
              "    </tr>\n",
              "    <tr>\n",
              "      <th>1</th>\n",
              "      <td>Kenya</td>\n",
              "      <td>No</td>\n",
              "      <td>Rural</td>\n",
              "      <td>No</td>\n",
              "      <td>5.0</td>\n",
              "      <td>70.0</td>\n",
              "      <td>Female</td>\n",
              "      <td>Head of Household</td>\n",
              "      <td>Widowed</td>\n",
              "      <td>No formal education</td>\n",
              "      <td>Government Dependent</td>\n",
              "    </tr>\n",
              "    <tr>\n",
              "      <th>2</th>\n",
              "      <td>Kenya</td>\n",
              "      <td>Yes</td>\n",
              "      <td>Urban</td>\n",
              "      <td>Yes</td>\n",
              "      <td>5.0</td>\n",
              "      <td>26.0</td>\n",
              "      <td>Male</td>\n",
              "      <td>Other relative</td>\n",
              "      <td>Single/Never Married</td>\n",
              "      <td>Vocational/Specialised training</td>\n",
              "      <td>Self employed</td>\n",
              "    </tr>\n",
              "    <tr>\n",
              "      <th>3</th>\n",
              "      <td>Kenya</td>\n",
              "      <td>No</td>\n",
              "      <td>Rural</td>\n",
              "      <td>Yes</td>\n",
              "      <td>5.0</td>\n",
              "      <td>34.0</td>\n",
              "      <td>Female</td>\n",
              "      <td>Head of Household</td>\n",
              "      <td>Married/Living together</td>\n",
              "      <td>Primary education</td>\n",
              "      <td>Formally employed Private</td>\n",
              "    </tr>\n",
              "    <tr>\n",
              "      <th>4</th>\n",
              "      <td>Kenya</td>\n",
              "      <td>No</td>\n",
              "      <td>Urban</td>\n",
              "      <td>No</td>\n",
              "      <td>8.0</td>\n",
              "      <td>26.0</td>\n",
              "      <td>Male</td>\n",
              "      <td>Child</td>\n",
              "      <td>Single/Never Married</td>\n",
              "      <td>Primary education</td>\n",
              "      <td>Informally employed</td>\n",
              "    </tr>\n",
              "    <tr>\n",
              "      <th>...</th>\n",
              "      <td>...</td>\n",
              "      <td>...</td>\n",
              "      <td>...</td>\n",
              "      <td>...</td>\n",
              "      <td>...</td>\n",
              "      <td>...</td>\n",
              "      <td>...</td>\n",
              "      <td>...</td>\n",
              "      <td>...</td>\n",
              "      <td>...</td>\n",
              "      <td>...</td>\n",
              "    </tr>\n",
              "    <tr>\n",
              "      <th>23519</th>\n",
              "      <td>Uganda</td>\n",
              "      <td>No</td>\n",
              "      <td>Rural</td>\n",
              "      <td>Yes</td>\n",
              "      <td>4.0</td>\n",
              "      <td>48.0</td>\n",
              "      <td>Female</td>\n",
              "      <td>Head of Household</td>\n",
              "      <td>Divorced/Seperated</td>\n",
              "      <td>No formal education</td>\n",
              "      <td>Other Income</td>\n",
              "    </tr>\n",
              "    <tr>\n",
              "      <th>23520</th>\n",
              "      <td>Uganda</td>\n",
              "      <td>No</td>\n",
              "      <td>Rural</td>\n",
              "      <td>Yes</td>\n",
              "      <td>2.0</td>\n",
              "      <td>27.0</td>\n",
              "      <td>Female</td>\n",
              "      <td>Head of Household</td>\n",
              "      <td>Single/Never Married</td>\n",
              "      <td>Secondary education</td>\n",
              "      <td>Other Income</td>\n",
              "    </tr>\n",
              "    <tr>\n",
              "      <th>23521</th>\n",
              "      <td>Uganda</td>\n",
              "      <td>No</td>\n",
              "      <td>Rural</td>\n",
              "      <td>Yes</td>\n",
              "      <td>5.0</td>\n",
              "      <td>27.0</td>\n",
              "      <td>Female</td>\n",
              "      <td>Parent</td>\n",
              "      <td>Widowed</td>\n",
              "      <td>Primary education</td>\n",
              "      <td>Other Income</td>\n",
              "    </tr>\n",
              "    <tr>\n",
              "      <th>23522</th>\n",
              "      <td>Uganda</td>\n",
              "      <td>No</td>\n",
              "      <td>Urban</td>\n",
              "      <td>Yes</td>\n",
              "      <td>7.0</td>\n",
              "      <td>30.0</td>\n",
              "      <td>Female</td>\n",
              "      <td>Parent</td>\n",
              "      <td>Divorced/Seperated</td>\n",
              "      <td>Secondary education</td>\n",
              "      <td>Self employed</td>\n",
              "    </tr>\n",
              "    <tr>\n",
              "      <th>23523</th>\n",
              "      <td>Uganda</td>\n",
              "      <td>No</td>\n",
              "      <td>Rural</td>\n",
              "      <td>Yes</td>\n",
              "      <td>10.0</td>\n",
              "      <td>20.0</td>\n",
              "      <td>Male</td>\n",
              "      <td>Child</td>\n",
              "      <td>Single/Never Married</td>\n",
              "      <td>Secondary education</td>\n",
              "      <td>No Income</td>\n",
              "    </tr>\n",
              "  </tbody>\n",
              "</table>\n",
              "<p>23343 rows × 11 columns</p>\n",
              "</div>"
            ],
            "text/plain": [
              "      country  ...                type_of_job\n",
              "0       Kenya  ...              Self employed\n",
              "1       Kenya  ...       Government Dependent\n",
              "2       Kenya  ...              Self employed\n",
              "3       Kenya  ...  Formally employed Private\n",
              "4       Kenya  ...        Informally employed\n",
              "...       ...  ...                        ...\n",
              "23519  Uganda  ...               Other Income\n",
              "23520  Uganda  ...               Other Income\n",
              "23521  Uganda  ...               Other Income\n",
              "23522  Uganda  ...              Self employed\n",
              "23523  Uganda  ...                  No Income\n",
              "\n",
              "[23343 rows x 11 columns]"
            ]
          },
          "metadata": {},
          "execution_count": 13
        }
      ]
    },
    {
      "cell_type": "code",
      "metadata": {
        "colab": {
          "base_uri": "https://localhost:8080/"
        },
        "id": "8Wu9vBdUVMwu",
        "outputId": "120b485c-acc0-4104-c636-a6f1bd90313f"
      },
      "source": [
        "#Checking for duplicates \n",
        "FinancialDataset.duplicated().sum()\n"
      ],
      "execution_count": null,
      "outputs": [
        {
          "output_type": "execute_result",
          "data": {
            "text/plain": [
              "4372"
            ]
          },
          "metadata": {},
          "execution_count": 14
        }
      ]
    },
    {
      "cell_type": "code",
      "metadata": {
        "colab": {
          "base_uri": "https://localhost:8080/",
          "height": 634
        },
        "id": "7nQjtscOVqeU",
        "outputId": "09453caf-702a-4fe5-ae14-1112f8787080"
      },
      "source": [
        "# Drop the duplicates \n",
        "df1 = FinancialDataset.drop_duplicates()\n",
        "df1"
      ],
      "execution_count": null,
      "outputs": [
        {
          "output_type": "execute_result",
          "data": {
            "text/html": [
              "<div>\n",
              "<style scoped>\n",
              "    .dataframe tbody tr th:only-of-type {\n",
              "        vertical-align: middle;\n",
              "    }\n",
              "\n",
              "    .dataframe tbody tr th {\n",
              "        vertical-align: top;\n",
              "    }\n",
              "\n",
              "    .dataframe thead th {\n",
              "        text-align: right;\n",
              "    }\n",
              "</style>\n",
              "<table border=\"1\" class=\"dataframe\">\n",
              "  <thead>\n",
              "    <tr style=\"text-align: right;\">\n",
              "      <th></th>\n",
              "      <th>country</th>\n",
              "      <th>has_a_bank_account</th>\n",
              "      <th>type_of_location</th>\n",
              "      <th>cell_phone_access</th>\n",
              "      <th>household_size</th>\n",
              "      <th>respondent_age</th>\n",
              "      <th>gender_of_respondent</th>\n",
              "      <th>the_relathip_with_head</th>\n",
              "      <th>marital_status</th>\n",
              "      <th>level_of_educuation</th>\n",
              "      <th>type_of_job</th>\n",
              "    </tr>\n",
              "  </thead>\n",
              "  <tbody>\n",
              "    <tr>\n",
              "      <th>0</th>\n",
              "      <td>Kenya</td>\n",
              "      <td>Yes</td>\n",
              "      <td>Rural</td>\n",
              "      <td>Yes</td>\n",
              "      <td>3.0</td>\n",
              "      <td>24.0</td>\n",
              "      <td>Female</td>\n",
              "      <td>Spouse</td>\n",
              "      <td>Married/Living together</td>\n",
              "      <td>Secondary education</td>\n",
              "      <td>Self employed</td>\n",
              "    </tr>\n",
              "    <tr>\n",
              "      <th>1</th>\n",
              "      <td>Kenya</td>\n",
              "      <td>No</td>\n",
              "      <td>Rural</td>\n",
              "      <td>No</td>\n",
              "      <td>5.0</td>\n",
              "      <td>70.0</td>\n",
              "      <td>Female</td>\n",
              "      <td>Head of Household</td>\n",
              "      <td>Widowed</td>\n",
              "      <td>No formal education</td>\n",
              "      <td>Government Dependent</td>\n",
              "    </tr>\n",
              "    <tr>\n",
              "      <th>2</th>\n",
              "      <td>Kenya</td>\n",
              "      <td>Yes</td>\n",
              "      <td>Urban</td>\n",
              "      <td>Yes</td>\n",
              "      <td>5.0</td>\n",
              "      <td>26.0</td>\n",
              "      <td>Male</td>\n",
              "      <td>Other relative</td>\n",
              "      <td>Single/Never Married</td>\n",
              "      <td>Vocational/Specialised training</td>\n",
              "      <td>Self employed</td>\n",
              "    </tr>\n",
              "    <tr>\n",
              "      <th>3</th>\n",
              "      <td>Kenya</td>\n",
              "      <td>No</td>\n",
              "      <td>Rural</td>\n",
              "      <td>Yes</td>\n",
              "      <td>5.0</td>\n",
              "      <td>34.0</td>\n",
              "      <td>Female</td>\n",
              "      <td>Head of Household</td>\n",
              "      <td>Married/Living together</td>\n",
              "      <td>Primary education</td>\n",
              "      <td>Formally employed Private</td>\n",
              "    </tr>\n",
              "    <tr>\n",
              "      <th>4</th>\n",
              "      <td>Kenya</td>\n",
              "      <td>No</td>\n",
              "      <td>Urban</td>\n",
              "      <td>No</td>\n",
              "      <td>8.0</td>\n",
              "      <td>26.0</td>\n",
              "      <td>Male</td>\n",
              "      <td>Child</td>\n",
              "      <td>Single/Never Married</td>\n",
              "      <td>Primary education</td>\n",
              "      <td>Informally employed</td>\n",
              "    </tr>\n",
              "    <tr>\n",
              "      <th>...</th>\n",
              "      <td>...</td>\n",
              "      <td>...</td>\n",
              "      <td>...</td>\n",
              "      <td>...</td>\n",
              "      <td>...</td>\n",
              "      <td>...</td>\n",
              "      <td>...</td>\n",
              "      <td>...</td>\n",
              "      <td>...</td>\n",
              "      <td>...</td>\n",
              "      <td>...</td>\n",
              "    </tr>\n",
              "    <tr>\n",
              "      <th>23519</th>\n",
              "      <td>Uganda</td>\n",
              "      <td>No</td>\n",
              "      <td>Rural</td>\n",
              "      <td>Yes</td>\n",
              "      <td>4.0</td>\n",
              "      <td>48.0</td>\n",
              "      <td>Female</td>\n",
              "      <td>Head of Household</td>\n",
              "      <td>Divorced/Seperated</td>\n",
              "      <td>No formal education</td>\n",
              "      <td>Other Income</td>\n",
              "    </tr>\n",
              "    <tr>\n",
              "      <th>23520</th>\n",
              "      <td>Uganda</td>\n",
              "      <td>No</td>\n",
              "      <td>Rural</td>\n",
              "      <td>Yes</td>\n",
              "      <td>2.0</td>\n",
              "      <td>27.0</td>\n",
              "      <td>Female</td>\n",
              "      <td>Head of Household</td>\n",
              "      <td>Single/Never Married</td>\n",
              "      <td>Secondary education</td>\n",
              "      <td>Other Income</td>\n",
              "    </tr>\n",
              "    <tr>\n",
              "      <th>23521</th>\n",
              "      <td>Uganda</td>\n",
              "      <td>No</td>\n",
              "      <td>Rural</td>\n",
              "      <td>Yes</td>\n",
              "      <td>5.0</td>\n",
              "      <td>27.0</td>\n",
              "      <td>Female</td>\n",
              "      <td>Parent</td>\n",
              "      <td>Widowed</td>\n",
              "      <td>Primary education</td>\n",
              "      <td>Other Income</td>\n",
              "    </tr>\n",
              "    <tr>\n",
              "      <th>23522</th>\n",
              "      <td>Uganda</td>\n",
              "      <td>No</td>\n",
              "      <td>Urban</td>\n",
              "      <td>Yes</td>\n",
              "      <td>7.0</td>\n",
              "      <td>30.0</td>\n",
              "      <td>Female</td>\n",
              "      <td>Parent</td>\n",
              "      <td>Divorced/Seperated</td>\n",
              "      <td>Secondary education</td>\n",
              "      <td>Self employed</td>\n",
              "    </tr>\n",
              "    <tr>\n",
              "      <th>23523</th>\n",
              "      <td>Uganda</td>\n",
              "      <td>No</td>\n",
              "      <td>Rural</td>\n",
              "      <td>Yes</td>\n",
              "      <td>10.0</td>\n",
              "      <td>20.0</td>\n",
              "      <td>Male</td>\n",
              "      <td>Child</td>\n",
              "      <td>Single/Never Married</td>\n",
              "      <td>Secondary education</td>\n",
              "      <td>No Income</td>\n",
              "    </tr>\n",
              "  </tbody>\n",
              "</table>\n",
              "<p>18971 rows × 11 columns</p>\n",
              "</div>"
            ],
            "text/plain": [
              "      country  ...                type_of_job\n",
              "0       Kenya  ...              Self employed\n",
              "1       Kenya  ...       Government Dependent\n",
              "2       Kenya  ...              Self employed\n",
              "3       Kenya  ...  Formally employed Private\n",
              "4       Kenya  ...        Informally employed\n",
              "...       ...  ...                        ...\n",
              "23519  Uganda  ...               Other Income\n",
              "23520  Uganda  ...               Other Income\n",
              "23521  Uganda  ...               Other Income\n",
              "23522  Uganda  ...              Self employed\n",
              "23523  Uganda  ...                  No Income\n",
              "\n",
              "[18971 rows x 11 columns]"
            ]
          },
          "metadata": {},
          "execution_count": 15
        }
      ]
    },
    {
      "cell_type": "code",
      "metadata": {
        "colab": {
          "base_uri": "https://localhost:8080/",
          "height": 427
        },
        "id": "UNnG2rmdWVPi",
        "outputId": "b2367d1e-3b72-4850-ea2c-4390e2c1ab16"
      },
      "source": [
        "# check for outliers \n",
        "df1.boxplot(figsize=(8, 6), fontsize=10)\n",
        "\n",
        "# print size of the data with outliers present\n",
        "print(df1.shape)\n",
        "\n",
        "print(\"***********************\")\n",
        "\n",
        "# remove the outliers\n",
        "Q1 = df1.quantile(0.25)\n",
        "Q3 = df1.quantile(0.75)\n",
        "IQR = Q3 - Q1\n",
        "df = df1[~((df1 < (Q1 - 1.5 * IQR)) | (df1 > (Q3 + 1.5 * IQR))).any(axis=1)]\n",
        "\n",
        "# print size of the data after removal of outliers\n",
        "print(df.shape)"
      ],
      "execution_count": null,
      "outputs": [
        {
          "output_type": "stream",
          "name": "stdout",
          "text": [
            "(18971, 11)\n",
            "***********************\n",
            "(18468, 11)\n"
          ]
        },
        {
          "output_type": "display_data",
          "data": {
            "image/png": "[encoded data removed]",
            "text/plain": [
              "<Figure size 576x432 with 1 Axes>"
            ]
          },
          "metadata": {
            "needs_background": "light"
          }
        }
      ]
    },
    {
      "cell_type": "code",
      "metadata": {
        "colab": {
          "base_uri": "https://localhost:8080/",
          "height": 283
        },
        "id": "8WOHbIrEXKzr",
        "outputId": "60426912-1ba9-49e3-dfab-664c10bbea68"
      },
      "source": [
        "# new data, without ouliers\n",
        "df.boxplot()"
      ],
      "execution_count": null,
      "outputs": [
        {
          "output_type": "execute_result",
          "data": {
            "text/plain": [
              "<matplotlib.axes._subplots.AxesSubplot at 0x7f74310ca590>"
            ]
          },
          "metadata": {},
          "execution_count": 17
        },
        {
          "output_type": "display_data",
          "data": {
            "image/png": "[encoded data removed]",
            "text/plain": [
              "<Figure size 432x288 with 1 Axes>"
            ]
          },
          "metadata": {
            "needs_background": "light"
          }
        }
      ]
    },
    {
      "cell_type": "code",
      "metadata": {
        "colab": {
          "base_uri": "https://localhost:8080/"
        },
        "id": "xhbfjnQBXl2K",
        "outputId": "d5363331-b0a5-4d48-c86a-74f3f31d7a10"
      },
      "source": [
        "#Checking for the unique values that are in each column entry in the dataset?\n",
        "\n",
        "for i in FinancialDataset.columns:\n",
        " print(FinancialDataset[i].unique())\n",
        " print (\"\\n\")"
      ],
      "execution_count": null,
      "outputs": [
        {
          "output_type": "stream",
          "name": "stdout",
          "text": [
            "['Kenya' 'Rwanda' 'Tanzania' 'Uganda']\n",
            "\n",
            "\n",
            "['Yes' 'No']\n",
            "\n",
            "\n",
            "['Rural' 'Urban']\n",
            "\n",
            "\n",
            "['Yes' 'No']\n",
            "\n",
            "\n",
            "[ 3.  5.  8.  7.  1.  6.  4. 10.  2. 11.  9. 12. 16. 15. 13. 14. 21.  0.\n",
            " 18. 17. 20.]\n",
            "\n",
            "\n",
            "[ 24.  70.  26.  34.  32.  42.  54.  76.  40.  69.  64.  31.  38.  47.\n",
            "  27.  48.  25.  21.  18.  22.  58.  55.  62.  29.  35.  45.  67.  19.\n",
            "  80.  66.  50.  33.  28.  51.  16.  17.  30.  37.  59.  65.  46.  56.\n",
            "  52.  23.  43.  49.  44.  72.  53.  63.  39.  81.  78.  36.  20.  60.\n",
            "  95.  71.  57.  85.  68.  41.  61.  75.  86.  73.  93.  74.  88.  90.\n",
            "  77.  84.  82.  89.  79.  83.  94.  87.  92.  91.  98.  97.  96.  99.\n",
            " 100.]\n",
            "\n",
            "\n",
            "['Female' 'Male']\n",
            "\n",
            "\n",
            "['Spouse' 'Head of Household' 'Other relative' 'Child' 'Parent'\n",
            " 'Other non-relatives']\n",
            "\n",
            "\n",
            "['Married/Living together' 'Widowed' 'Single/Never Married'\n",
            " 'Divorced/Seperated' 'Dont know']\n",
            "\n",
            "\n",
            "['Secondary education' 'No formal education'\n",
            " 'Vocational/Specialised training' 'Primary education'\n",
            " 'Tertiary education' 'Other/Dont know/RTA' '6']\n",
            "\n",
            "\n",
            "['Self employed' 'Government Dependent' 'Formally employed Private'\n",
            " 'Informally employed' 'Formally employed Government'\n",
            " 'Farming and Fishing' 'Remittance Dependent' 'Other Income'\n",
            " 'Dont Know/Refuse to answer' 'No Income']\n",
            "\n",
            "\n"
          ]
        }
      ]
    },
    {
      "cell_type": "code",
      "metadata": {
        "colab": {
          "base_uri": "https://localhost:8080/"
        },
        "id": "pXmPWsfFZq40",
        "outputId": "8e230c8d-a9a8-44eb-a05a-13513929e4bf"
      },
      "source": [
        "\n",
        "#Changing the data types to Category and the numerical columns remain as float64.\n",
        "\n",
        "for column in FinancialDataset[FinancialDataset.columns.difference(['household_size', 'respondent_age'])].columns:\n",
        "  FinancialDataset[column] = FinancialDataset[column].astype('category')\n",
        "  \n",
        "#Check the data types\n",
        "\n",
        "FinancialDataset.dtypes"
      ],
      "execution_count": null,
      "outputs": [
        {
          "output_type": "execute_result",
          "data": {
            "text/plain": [
              "country                   category\n",
              "has_a_bank_account        category\n",
              "type_of_location          category\n",
              "cell_phone_access         category\n",
              "household_size             float64\n",
              "respondent_age             float64\n",
              "gender_of_respondent      category\n",
              "the_relathip_with_head    category\n",
              "marital_status            category\n",
              "level_of_educuation       category\n",
              "type_of_job               category\n",
              "dtype: object"
            ]
          },
          "metadata": {},
          "execution_count": 19
        }
      ]
    },
    {
      "cell_type": "markdown",
      "metadata": {
        "id": "S5S-6H9fba35"
      },
      "source": [
        "Univariate Analysis\n"
      ]
    },
    {
      "cell_type": "code",
      "metadata": {
        "colab": {
          "base_uri": "https://localhost:8080/",
          "height": 300
        },
        "id": "6_G5cMv8axhL",
        "outputId": "f0c8d22a-3fcd-4282-fe01-186b25be9b2c"
      },
      "source": [
        "#Data Description \n",
        "FinancialDataset.describe()\n"
      ],
      "execution_count": null,
      "outputs": [
        {
          "output_type": "execute_result",
          "data": {
            "text/html": [
              "<div>\n",
              "<style scoped>\n",
              "    .dataframe tbody tr th:only-of-type {\n",
              "        vertical-align: middle;\n",
              "    }\n",
              "\n",
              "    .dataframe tbody tr th {\n",
              "        vertical-align: top;\n",
              "    }\n",
              "\n",
              "    .dataframe thead th {\n",
              "        text-align: right;\n",
              "    }\n",
              "</style>\n",
              "<table border=\"1\" class=\"dataframe\">\n",
              "  <thead>\n",
              "    <tr style=\"text-align: right;\">\n",
              "      <th></th>\n",
              "      <th>household_size</th>\n",
              "      <th>respondent_age</th>\n",
              "    </tr>\n",
              "  </thead>\n",
              "  <tbody>\n",
              "    <tr>\n",
              "      <th>count</th>\n",
              "      <td>23343.000000</td>\n",
              "      <td>23343.000000</td>\n",
              "    </tr>\n",
              "    <tr>\n",
              "      <th>mean</th>\n",
              "      <td>3.688643</td>\n",
              "      <td>38.805509</td>\n",
              "    </tr>\n",
              "    <tr>\n",
              "      <th>std</th>\n",
              "      <td>2.281184</td>\n",
              "      <td>16.519803</td>\n",
              "    </tr>\n",
              "    <tr>\n",
              "      <th>min</th>\n",
              "      <td>0.000000</td>\n",
              "      <td>16.000000</td>\n",
              "    </tr>\n",
              "    <tr>\n",
              "      <th>25%</th>\n",
              "      <td>2.000000</td>\n",
              "      <td>26.000000</td>\n",
              "    </tr>\n",
              "    <tr>\n",
              "      <th>50%</th>\n",
              "      <td>3.000000</td>\n",
              "      <td>35.000000</td>\n",
              "    </tr>\n",
              "    <tr>\n",
              "      <th>75%</th>\n",
              "      <td>5.000000</td>\n",
              "      <td>49.000000</td>\n",
              "    </tr>\n",
              "    <tr>\n",
              "      <th>max</th>\n",
              "      <td>21.000000</td>\n",
              "      <td>100.000000</td>\n",
              "    </tr>\n",
              "  </tbody>\n",
              "</table>\n",
              "</div>"
            ],
            "text/plain": [
              "       household_size  respondent_age\n",
              "count    23343.000000    23343.000000\n",
              "mean         3.688643       38.805509\n",
              "std          2.281184       16.519803\n",
              "min          0.000000       16.000000\n",
              "25%          2.000000       26.000000\n",
              "50%          3.000000       35.000000\n",
              "75%          5.000000       49.000000\n",
              "max         21.000000      100.000000"
            ]
          },
          "metadata": {},
          "execution_count": 20
        }
      ]
    },
    {
      "cell_type": "markdown",
      "metadata": {
        "id": "8mhv5wGC05oc"
      },
      "source": [
        "Measure of Central Tendency \n",
        "\n"
      ]
    },
    {
      "cell_type": "code",
      "metadata": {
        "colab": {
          "base_uri": "https://localhost:8080/"
        },
        "id": "vJAJy41mo1mK",
        "outputId": "44ef909b-1aa7-4c0d-adec-e88e38a0ed50"
      },
      "source": [
        "#Mean helps to find the number around which an entire information is spread out\n",
        "\n",
        "print(FinancialDataset['household_size'].mean())\n",
        "print(FinancialDataset['respondent_age'].mean())"
      ],
      "execution_count": null,
      "outputs": [
        {
          "output_type": "stream",
          "name": "stdout",
          "text": [
            "3.6886432763569377\n",
            "38.80550914621085\n"
          ]
        }
      ]
    },
    {
      "cell_type": "code",
      "metadata": {
        "colab": {
          "base_uri": "https://localhost:8080/"
        },
        "id": "14mwBfUT2k_1",
        "outputId": "12ea4883-6e55-4e03-86d3-9da2ea9d3597"
      },
      "source": [
        "#Median separates the higher half from the lower half\n",
        "print(FinancialDataset['household_size'].median())\n",
        "print(FinancialDataset['respondent_age'].median())"
      ],
      "execution_count": null,
      "outputs": [
        {
          "output_type": "stream",
          "name": "stdout",
          "text": [
            "3.0\n",
            "35.0\n"
          ]
        }
      ]
    },
    {
      "cell_type": "code",
      "metadata": {
        "colab": {
          "base_uri": "https://localhost:8080/"
        },
        "id": "Q5-HMUVS3dk0",
        "outputId": "c470b725-201e-4de2-b137-5f5e1d8cb1d7"
      },
      "source": [
        "#Mode which occurs most often \n",
        "print(FinancialDataset['household_size'].mode())\n",
        "print(FinancialDataset['respondent_age'].mode())"
      ],
      "execution_count": null,
      "outputs": [
        {
          "output_type": "stream",
          "name": "stdout",
          "text": [
            "0    2.0\n",
            "dtype: float64\n",
            "0    30.0\n",
            "dtype: float64\n"
          ]
        }
      ]
    },
    {
      "cell_type": "code",
      "metadata": {
        "colab": {
          "base_uri": "https://localhost:8080/"
        },
        "id": "DA6B4Khg4nY7",
        "outputId": "bc764cd2-84b1-457f-e114-3ca7d846e29b"
      },
      "source": [
        "#Standard deviation the measure of how dispersed or spread out the set is from the mean, expected value. \n",
        "FinancialDataset.std()\n",
        "# The results shows that the deviate is more from mean in value of 16.52 in terms of age. However for the househodl size the deviation is slightly\n",
        "#low at 2.3"
      ],
      "execution_count": null,
      "outputs": [
        {
          "output_type": "execute_result",
          "data": {
            "text/plain": [
              "household_size     2.281184\n",
              "respondent_age    16.519803\n",
              "dtype: float64"
            ]
          },
          "metadata": {},
          "execution_count": 24
        }
      ]
    },
    {
      "cell_type": "code",
      "metadata": {
        "colab": {
          "base_uri": "https://localhost:8080/"
        },
        "id": "v1h41v6YSvk7",
        "outputId": "14d6c901-b903-4c90-f50b-cb4269604369"
      },
      "source": [
        "#Skewness, this indicates which direction and a relative magnitude of how far a distribution deviates from normal.\n",
        "FinancialDatasetskew= FinancialDataset['household_size'].skew()\n",
        "print(\"skewness of household size\", FinancialDatasetskew)\n",
        "\n",
        "FinancialDatasetskew= FinancialDataset['respondent_age'].skew()\n",
        "print(\"skewness of respondent age\", FinancialDatasetskew)\n",
        "#The respondent's age and household size both exhibit positive skewness. They are moderately skewed. The mean is thus greater than the \n",
        "#median \n"
      ],
      "execution_count": null,
      "outputs": [
        {
          "output_type": "stream",
          "name": "stdout",
          "text": [
            "skewness of household size 0.9741086837897069\n",
            "skewness of respondent age 0.840661747532081\n"
          ]
        }
      ]
    },
    {
      "cell_type": "code",
      "metadata": {
        "colab": {
          "base_uri": "https://localhost:8080/"
        },
        "id": "-PGUAyEyUQmo",
        "outputId": "16624e39-5f07-4c05-89ba-24676fe2a007"
      },
      "source": [
        "#Kurtosis, this is a measure of the combined sizes of the two tails. It measures the amount of probability in the tails\n",
        "FinancialDataset.kurt()\n",
        "# The kurtosis of the household size value is greater than 0, it is considered to be a \"weighted-tailed\" dataset. The dataset has more \n",
        "#weight in the tails for household size\n",
        "# The respondents age has a kurtosis close to 0 hence it is approximately follows a normal distribution\n",
        "# The values for asymmetry and kurtosis between -2 and +2 are considered acceptable in order to prove\n",
        "# normal univariate distribution (George & Mallery, 2010).\n",
        "# Since the values lie within the range specified it can be said that they follow a normal univariate distribution "
      ],
      "execution_count": null,
      "outputs": [
        {
          "output_type": "execute_result",
          "data": {
            "text/plain": [
              "household_size    1.153869\n",
              "respondent_age    0.098447\n",
              "dtype: float64"
            ]
          },
          "metadata": {},
          "execution_count": 26
        }
      ]
    },
    {
      "cell_type": "markdown",
      "metadata": {
        "id": "2gDkToopW3jG"
      },
      "source": [
        "Univariate Data Visualization \n",
        "\n"
      ]
    },
    {
      "cell_type": "code",
      "metadata": {
        "colab": {
          "base_uri": "https://localhost:8080/",
          "height": 355
        },
        "id": "KMBmCpZ_W-TA",
        "outputId": "4c799c50-eab1-4fe0-8caf-61b384f11a1e"
      },
      "source": [
        "# Histogram showing the age of the respondents \n",
        "# Display hist\n",
        "sns.distplot(FinancialDataset['respondent_age'], kde=True)"
      ],
      "execution_count": null,
      "outputs": [
        {
          "output_type": "stream",
          "name": "stderr",
          "text": [
            "/usr/local/lib/python3.7/dist-packages/seaborn/distributions.py:2619: FutureWarning: `distplot` is a deprecated function and will be removed in a future version. Please adapt your code to use either `displot` (a figure-level function with similar flexibility) or `histplot` (an axes-level function for histograms).\n",
            "  warnings.warn(msg, FutureWarning)\n"
          ]
        },
        {
          "output_type": "execute_result",
          "data": {
            "text/plain": [
              "<matplotlib.axes._subplots.AxesSubplot at 0x7f7430a43c90>"
            ]
          },
          "metadata": {},
          "execution_count": 27
        },
        {
          "output_type": "display_data",
          "data": {
            "image/png": "[encoded data removed]",
            "text/plain": [
              "<Figure size 432x288 with 1 Axes>"
            ]
          },
          "metadata": {
            "needs_background": "light"
          }
        }
      ]
    },
    {
      "cell_type": "code",
      "metadata": {
        "colab": {
          "base_uri": "https://localhost:8080/",
          "height": 352
        },
        "id": "M5ycQOWHaVzw",
        "outputId": "741b297a-a6d2-4499-cd6e-e4b930f8daec"
      },
      "source": [
        "sns.distplot(FinancialDataset['household_size'], kde=True)\n",
        "\n",
        "#The graph of household_size inclined right hence the mean is larger than the median.\n"
      ],
      "execution_count": null,
      "outputs": [
        {
          "output_type": "stream",
          "name": "stderr",
          "text": [
            "/usr/local/lib/python3.7/dist-packages/seaborn/distributions.py:2619: FutureWarning: `distplot` is a deprecated function and will be removed in a future version. Please adapt your code to use either `displot` (a figure-level function with similar flexibility) or `histplot` (an axes-level function for histograms).\n",
            "  warnings.warn(msg, FutureWarning)\n"
          ]
        },
        {
          "output_type": "execute_result",
          "data": {
            "text/plain": [
              "<matplotlib.axes._subplots.AxesSubplot at 0x7f7432885250>"
            ]
          },
          "metadata": {},
          "execution_count": 28
        },
        {
          "output_type": "display_data",
          "data": {
            "image/png": "[encoded data removed]",
            "text/plain": [
              "<Figure size 432x288 with 1 Axes>"
            ]
          },
          "metadata": {
            "needs_background": "light"
          }
        }
      ]
    },
    {
      "cell_type": "code",
      "metadata": {
        "colab": {
          "base_uri": "https://localhost:8080/",
          "height": 334
        },
        "id": "penZ4i43bLDa",
        "outputId": "79ca9c95-08b6-44fa-d6a4-e3e450f7c0b5"
      },
      "source": [
        "sns.countplot(FinancialDataset['country'])\n",
        "\n",
        "plt.show()\n",
        "# The Country with the foremost records within the dataset is Rwanda. Uganda on the other hand has the smallest amount of records "
      ],
      "execution_count": null,
      "outputs": [
        {
          "output_type": "stream",
          "name": "stderr",
          "text": [
            "/usr/local/lib/python3.7/dist-packages/seaborn/_decorators.py:43: FutureWarning: Pass the following variable as a keyword arg: x. From version 0.12, the only valid positional argument will be `data`, and passing other arguments without an explicit keyword will result in an error or misinterpretation.\n",
            "  FutureWarning\n"
          ]
        },
        {
          "output_type": "display_data",
          "data": {
            "image/png": "[encoded data removed]",
            "text/plain": [
              "<Figure size 432x288 with 1 Axes>"
            ]
          },
          "metadata": {
            "needs_background": "light"
          }
        }
      ]
    },
    {
      "cell_type": "code",
      "metadata": {
        "colab": {
          "base_uri": "https://localhost:8080/",
          "height": 367
        },
        "id": "MwiGxIZacLCk",
        "outputId": "8ec9141e-ffaf-4b6e-d7c4-fab33df45b91"
      },
      "source": [
        "# No. of individuals who have or do not have bank accounts?\n",
        "# \n",
        "# plot a count plot for the variable\n",
        "ax = sns.countplot(df['has_a_bank_account'], order = df['has_a_bank_account'].value_counts().index)\n",
        "# formatting and labelling axes\n",
        "plt.title('Count of indidviduals with and without a bank account')\n",
        "plt.xlabel('Has a bank account?')\n",
        "plt.ylabel('Frequency/count of individuals')"
      ],
      "execution_count": null,
      "outputs": [
        {
          "output_type": "stream",
          "name": "stderr",
          "text": [
            "/usr/local/lib/python3.7/dist-packages/seaborn/_decorators.py:43: FutureWarning: Pass the following variable as a keyword arg: x. From version 0.12, the only valid positional argument will be `data`, and passing other arguments without an explicit keyword will result in an error or misinterpretation.\n",
            "  FutureWarning\n"
          ]
        },
        {
          "output_type": "execute_result",
          "data": {
            "text/plain": [
              "Text(0, 0.5, 'Frequency/count of individuals')"
            ]
          },
          "metadata": {},
          "execution_count": 30
        },
        {
          "output_type": "display_data",
          "data": {
            "image/png": "[encoded data removed]",
            "text/plain": [
              "<Figure size 432x288 with 1 Axes>"
            ]
          },
          "metadata": {
            "needs_background": "light"
          }
        }
      ]
    },
    {
      "cell_type": "code",
      "metadata": {
        "colab": {
          "base_uri": "https://localhost:8080/",
          "height": 402
        },
        "id": "YIVXpZzicyfv",
        "outputId": "412573ed-0894-43cd-b4ef-4e2d71a61359"
      },
      "source": [
        "# Type of location\n",
        "ax = sns.countplot(df['type_of_location'], order = df['type_of_location'].value_counts().index)\n",
        "# formatting the plot, labelling axes\n",
        "plt.title(\"Rural and Urban locations\")\n",
        "plt.xlabel('Rural or urban?')\n",
        "plt.ylabel('Number of individuals')\n",
        "# frequency table of the same for comparison\n",
        "df['type_of_location'].value_counts()\n",
        "# It can be observed that the dataset contains additional data collected from people staying in rural areas than \n",
        "# from people staying in urban areas"
      ],
      "execution_count": null,
      "outputs": [
        {
          "output_type": "stream",
          "name": "stderr",
          "text": [
            "/usr/local/lib/python3.7/dist-packages/seaborn/_decorators.py:43: FutureWarning: Pass the following variable as a keyword arg: x. From version 0.12, the only valid positional argument will be `data`, and passing other arguments without an explicit keyword will result in an error or misinterpretation.\n",
            "  FutureWarning\n"
          ]
        },
        {
          "output_type": "execute_result",
          "data": {
            "text/plain": [
              "Rural    11293\n",
              "Urban     7175\n",
              "Name: type_of_location, dtype: int64"
            ]
          },
          "metadata": {},
          "execution_count": 31
        },
        {
          "output_type": "display_data",
          "data": {
            "image/png": "[encoded data removed]",
            "text/plain": [
              "<Figure size 432x288 with 1 Axes>"
            ]
          },
          "metadata": {
            "needs_background": "light"
          }
        }
      ]
    },
    {
      "cell_type": "code",
      "metadata": {
        "colab": {
          "base_uri": "https://localhost:8080/",
          "height": 367
        },
        "id": "wtT955rSdCTX",
        "outputId": "6874bf83-e543-4c6d-a113-ad1971c15c77"
      },
      "source": [
        "# Access to cell phones by individual respondent\n",
        "ax = sns.countplot(df['cell_phone_access'], order = df['cell_phone_access'].value_counts().index)\n",
        "# formatting and labelling the plot\n",
        "plt.title('Access to cell phone')\n",
        "plt.xlabel('Has access to cell phone?')\n",
        "plt.ylabel('Number of individuals')\n",
        "# The number of people that have access to cell phone is almost twice the number of those that do not have "
      ],
      "execution_count": null,
      "outputs": [
        {
          "output_type": "stream",
          "name": "stderr",
          "text": [
            "/usr/local/lib/python3.7/dist-packages/seaborn/_decorators.py:43: FutureWarning: Pass the following variable as a keyword arg: x. From version 0.12, the only valid positional argument will be `data`, and passing other arguments without an explicit keyword will result in an error or misinterpretation.\n",
            "  FutureWarning\n"
          ]
        },
        {
          "output_type": "execute_result",
          "data": {
            "text/plain": [
              "Text(0, 0.5, 'Number of individuals')"
            ]
          },
          "metadata": {},
          "execution_count": 32
        },
        {
          "output_type": "display_data",
          "data": {
            "image/png": "[encoded data removed]",
            "text/plain": [
              "<Figure size 432x288 with 1 Axes>"
            ]
          },
          "metadata": {
            "needs_background": "light"
          }
        }
      ]
    },
    {
      "cell_type": "code",
      "metadata": {
        "colab": {
          "base_uri": "https://localhost:8080/",
          "height": 367
        },
        "id": "EGtoEhfId1Kw",
        "outputId": "c90d5255-ed82-4b82-9063-35fe349104a5"
      },
      "source": [
        "# Number of people living in one household\n",
        "sns.countplot(FinancialDataset['household_size'])\n",
        "# formatting and labelling chart\n",
        "plt.title('Distribution of number of people in one household')\n",
        "plt.xlabel('Number of individuals per household')\n",
        "plt.ylabel('Frequency distribution across the population')\n",
        "#Majority of the people have households of 1,2,3 or 4 members "
      ],
      "execution_count": null,
      "outputs": [
        {
          "output_type": "stream",
          "name": "stderr",
          "text": [
            "/usr/local/lib/python3.7/dist-packages/seaborn/_decorators.py:43: FutureWarning: Pass the following variable as a keyword arg: x. From version 0.12, the only valid positional argument will be `data`, and passing other arguments without an explicit keyword will result in an error or misinterpretation.\n",
            "  FutureWarning\n"
          ]
        },
        {
          "output_type": "execute_result",
          "data": {
            "text/plain": [
              "Text(0, 0.5, 'Frequency distribution across the population')"
            ]
          },
          "metadata": {},
          "execution_count": 33
        },
        {
          "output_type": "display_data",
          "data": {
            "image/png": "[encoded data removed]",
            "text/plain": [
              "<Figure size 432x288 with 1 Axes>"
            ]
          },
          "metadata": {
            "needs_background": "light"
          }
        }
      ]
    },
    {
      "cell_type": "code",
      "metadata": {
        "colab": {
          "base_uri": "https://localhost:8080/",
          "height": 367
        },
        "id": "-Y6Inr-UfGOL",
        "outputId": "d93f2f0c-81f0-40ad-ce07-18c3b80aa458"
      },
      "source": [
        "# Gender of the respondent\n",
        "ax = sns.countplot(df['gender_of_respondent'], order = df['gender_of_respondent'].value_counts().index)\n",
        "# formatting and labelling the plot\n",
        "plt.title(\"Gender distribution across the target population\")\n",
        "plt.xlabel(\"Gender\")\n",
        "plt.ylabel(\"Frequency\")\n",
        "# More females responded than males "
      ],
      "execution_count": null,
      "outputs": [
        {
          "output_type": "stream",
          "name": "stderr",
          "text": [
            "/usr/local/lib/python3.7/dist-packages/seaborn/_decorators.py:43: FutureWarning: Pass the following variable as a keyword arg: x. From version 0.12, the only valid positional argument will be `data`, and passing other arguments without an explicit keyword will result in an error or misinterpretation.\n",
            "  FutureWarning\n"
          ]
        },
        {
          "output_type": "execute_result",
          "data": {
            "text/plain": [
              "Text(0, 0.5, 'Frequency')"
            ]
          },
          "metadata": {},
          "execution_count": 34
        },
        {
          "output_type": "display_data",
          "data": {
            "image/png": "[encoded data removed]",
            "text/plain": [
              "<Figure size 432x288 with 1 Axes>"
            ]
          },
          "metadata": {
            "needs_background": "light"
          }
        }
      ]
    },
    {
      "cell_type": "code",
      "metadata": {
        "colab": {
          "base_uri": "https://localhost:8080/",
          "height": 454
        },
        "id": "jvQgQtbCf1i4",
        "outputId": "fb593c40-ae7b-4ea7-e929-9be6982e8f81"
      },
      "source": [
        "# Relationship of the respondent to the head of the household\n",
        "ax = sns.countplot(df['the_relathip_with_head'], order = df['the_relathip_with_head'].value_counts().index)\n",
        "# formatting and labelling the chart\n",
        "plt.title(\"Relationship of the respodent to the head of household\")\n",
        "plt.xlabel(\"Relationship to household head\")\n",
        "plt.ylabel(\"Frequency of occurence\")\n",
        "plt.xticks(rotation = 90)\n",
        "# The survey was mostly responded to by the head of the household"
      ],
      "execution_count": null,
      "outputs": [
        {
          "output_type": "stream",
          "name": "stderr",
          "text": [
            "/usr/local/lib/python3.7/dist-packages/seaborn/_decorators.py:43: FutureWarning: Pass the following variable as a keyword arg: x. From version 0.12, the only valid positional argument will be `data`, and passing other arguments without an explicit keyword will result in an error or misinterpretation.\n",
            "  FutureWarning\n"
          ]
        },
        {
          "output_type": "execute_result",
          "data": {
            "text/plain": [
              "(array([0, 1, 2, 3, 4, 5]), <a list of 6 Text major ticklabel objects>)"
            ]
          },
          "metadata": {},
          "execution_count": 35
        },
        {
          "output_type": "display_data",
          "data": {
            "image/png": "[encoded data removed]",
            "text/plain": [
              "<Figure size 432x288 with 1 Axes>"
            ]
          },
          "metadata": {
            "needs_background": "light"
          }
        }
      ]
    },
    {
      "cell_type": "code",
      "metadata": {
        "colab": {
          "base_uri": "https://localhost:8080/",
          "height": 423
        },
        "id": "qEDmJdAdhpFv",
        "outputId": "65e4364d-7f9a-41e6-adfa-2958ba956fc4"
      },
      "source": [
        "# plot age distribution of the respondents\n",
        "# size of the figure \n",
        "plt.figure(figsize=(20,5))\n",
        "\n",
        "ax = sns.countplot(df['respondent_age'], order = df['respondent_age'].value_counts().index)\n",
        "# formatting and labelling the chart\n",
        "plt.xticks(rotation = 90)\n",
        "plt.title(\"Age distribution across the population\")\n",
        "plt.xlabel(\"Age\")\n",
        "plt.ylabel(\"Frequency/number of occurrences\")"
      ],
      "execution_count": null,
      "outputs": [
        {
          "output_type": "stream",
          "name": "stderr",
          "text": [
            "/usr/local/lib/python3.7/dist-packages/seaborn/_decorators.py:43: FutureWarning: Pass the following variable as a keyword arg: x. From version 0.12, the only valid positional argument will be `data`, and passing other arguments without an explicit keyword will result in an error or misinterpretation.\n",
            "  FutureWarning\n"
          ]
        },
        {
          "output_type": "execute_result",
          "data": {
            "text/plain": [
              "Text(0, 0.5, 'Frequency/number of occurrences')"
            ]
          },
          "metadata": {},
          "execution_count": 36
        },
        {
          "output_type": "display_data",
          "data": {
            "image/png": "[encoded data removed]",
            "text/plain": [
              "<Figure size 1440x360 with 1 Axes>"
            ]
          },
          "metadata": {
            "needs_background": "light"
          }
        }
      ]
    },
    {
      "cell_type": "code",
      "metadata": {
        "colab": {
          "base_uri": "https://localhost:8080/",
          "height": 475
        },
        "id": "a-6fOPfwh6GH",
        "outputId": "81982a2a-315a-4deb-9f91-0b4d2155ec4a"
      },
      "source": [
        "# plot of the marital status of the respondents,then order them in descending order\n",
        "ax = sns.countplot(df['marital_status'], order = df['marital_status'].value_counts().index)\n",
        "# formatting the chart and labelling axes\n",
        "plt.title(\"Marital status of the respondents\")\n",
        "plt.xlabel(\"Marital status\")\n",
        "plt.ylabel(\"Number of individuals in the population\")\n",
        "plt.xticks(rotation=90)\n",
        "# Most of the respondents were married/living together "
      ],
      "execution_count": null,
      "outputs": [
        {
          "output_type": "stream",
          "name": "stderr",
          "text": [
            "/usr/local/lib/python3.7/dist-packages/seaborn/_decorators.py:43: FutureWarning: Pass the following variable as a keyword arg: x. From version 0.12, the only valid positional argument will be `data`, and passing other arguments without an explicit keyword will result in an error or misinterpretation.\n",
            "  FutureWarning\n"
          ]
        },
        {
          "output_type": "execute_result",
          "data": {
            "text/plain": [
              "(array([0, 1, 2, 3, 4]), <a list of 5 Text major ticklabel objects>)"
            ]
          },
          "metadata": {},
          "execution_count": 37
        },
        {
          "output_type": "display_data",
          "data": {
            "image/png": "[encoded data removed]",
            "text/plain": [
              "<Figure size 432x288 with 1 Axes>"
            ]
          },
          "metadata": {
            "needs_background": "light"
          }
        }
      ]
    },
    {
      "cell_type": "code",
      "metadata": {
        "colab": {
          "base_uri": "https://localhost:8080/",
          "height": 535
        },
        "id": "HnUnPKjcimGC",
        "outputId": "84da16cb-ce06-4579-b95d-3bc35a38bd48"
      },
      "source": [
        "# count plot for the type of job\n",
        "ax = sns.countplot(df['type_of_job'], order = df['type_of_job'].value_counts().index)\n",
        "# formatting and labelling the chart \n",
        "plt.title(\"Type of job respondent holds\")\n",
        "plt.xlabel(\"Type of job\")\n",
        "plt.ylabel(\"Number of respondents\")\n",
        "plt.xticks(rotation=90)\n",
        "#Most of the respondents are self employed and in informal employment "
      ],
      "execution_count": null,
      "outputs": [
        {
          "output_type": "stream",
          "name": "stderr",
          "text": [
            "/usr/local/lib/python3.7/dist-packages/seaborn/_decorators.py:43: FutureWarning: Pass the following variable as a keyword arg: x. From version 0.12, the only valid positional argument will be `data`, and passing other arguments without an explicit keyword will result in an error or misinterpretation.\n",
            "  FutureWarning\n"
          ]
        },
        {
          "output_type": "execute_result",
          "data": {
            "text/plain": [
              "(array([0, 1, 2, 3, 4, 5, 6, 7, 8, 9]),\n",
              " <a list of 10 Text major ticklabel objects>)"
            ]
          },
          "metadata": {},
          "execution_count": 38
        },
        {
          "output_type": "display_data",
          "data": {
            "image/png": "[encoded data removed]",
            "text/plain": [
              "<Figure size 432x288 with 1 Axes>"
            ]
          },
          "metadata": {
            "needs_background": "light"
          }
        }
      ]
    },
    {
      "cell_type": "code",
      "metadata": {
        "colab": {
          "base_uri": "https://localhost:8080/",
          "height": 511
        },
        "id": "FBsHhIRJjMn3",
        "outputId": "19fee17e-12ad-4e14-e067-c61ace1e3d36"
      },
      "source": [
        "# chart for the level of education \n",
        "ax = sns.countplot(df['level_of_educuation'], order = df['level_of_educuation'].value_counts().index)\n",
        "df = df[~(df['level_of_educuation']=='6')]\n",
        "df['level_of_educuation'].value_counts()\n",
        "# Done to remove the anamoly realized when the chart was plotted\n",
        "# formatting and labelling the chart\n",
        "plt.title(\"Highest level of education reached by respondents\")\n",
        "plt.xlabel(\"Highest level reached\")\n",
        "plt.ylabel(\"Number of respondents\")\n",
        "plt.xticks(rotation=90)\n",
        "# Majority of the respondents had primary education as their highest level of education "
      ],
      "execution_count": null,
      "outputs": [
        {
          "output_type": "stream",
          "name": "stderr",
          "text": [
            "/usr/local/lib/python3.7/dist-packages/seaborn/_decorators.py:43: FutureWarning: Pass the following variable as a keyword arg: x. From version 0.12, the only valid positional argument will be `data`, and passing other arguments without an explicit keyword will result in an error or misinterpretation.\n",
            "  FutureWarning\n"
          ]
        },
        {
          "output_type": "execute_result",
          "data": {
            "text/plain": [
              "(array([0, 1, 2, 3, 4, 5, 6]), <a list of 7 Text major ticklabel objects>)"
            ]
          },
          "metadata": {},
          "execution_count": 39
        },
        {
          "output_type": "display_data",
          "data": {
            "image/png": "[encoded data removed]",
            "text/plain": [
              "<Figure size 432x288 with 1 Axes>"
            ]
          },
          "metadata": {
            "needs_background": "light"
          }
        }
      ]
    },
    {
      "cell_type": "code",
      "metadata": {
        "colab": {
          "base_uri": "https://localhost:8080/",
          "height": 264
        },
        "id": "FBHWt7WVkwgr",
        "outputId": "2cd00bdf-3ca6-4fb5-d4c8-7ddf6975e216"
      },
      "source": [
        "household =FinancialDataset.groupby('country')['household_size'].count()\n",
        "# Distribution of household sizes by count with country\n",
        "country = ['Kenya', 'Rwanda', 'Tanzania', 'Uganda']\n",
        "household = [household['Kenya'], household['Rwanda'],household['Tanzania'], household['Uganda']]\n",
        "explode = [0, 0, 0.1, 0]\n",
        "# \n",
        "plt.pie(household, labels=country, explode=explode, autopct = '%1.1f%%', shadow = True, startangle = 90)\n",
        "plt.axis('equal')\n",
        "plt.title('% of Household sizes in the different countries')\n",
        "plt.show()\n",
        "# Rwanda had the highest number of household sizes followed by Tanzania"
      ],
      "execution_count": null,
      "outputs": [
        {
          "output_type": "display_data",
          "data": {
            "image/png": "[encoded data removed]",
            "text/plain": [
              "<Figure size 432x288 with 1 Axes>"
            ]
          },
          "metadata": {}
        }
      ]
    },
    {
      "cell_type": "markdown",
      "metadata": {
        "id": "Y6sIR_l6YEq7"
      },
      "source": [
        "Bivariate Analysis\n",
        "\n"
      ]
    },
    {
      "cell_type": "code",
      "metadata": {
        "colab": {
          "base_uri": "https://localhost:8080/",
          "height": 295
        },
        "id": "D3X_3JBTYUjU",
        "outputId": "179e38ac-7d42-4194-93ba-d5537b7bacae"
      },
      "source": [
        "#Plotting scatterplot to compare the variables\n",
        "plt.scatter(FinancialDataset['household_size'],FinancialDataset['respondent_age'])\n",
        "\n",
        "#Title\n",
        "plt.title('Household_size vs respondent age')\n",
        "#labelling x axis\n",
        "plt.xlabel('Household age')\n",
        "plt.ylabel('respondednt size')\n",
        "\n",
        "plt.show()\n",
        "\n",
        "# The graph is inclined to the left which means that its one tail inclined to the left with a left distribution.\n",
        "# The variables are likely to have a negative linear correlation"
      ],
      "execution_count": null,
      "outputs": [
        {
          "output_type": "display_data",
          "data": {
            "image/png": "[encoded data removed]",
            "text/plain": [
              "<Figure size 432x288 with 1 Axes>"
            ]
          },
          "metadata": {
            "needs_background": "light"
          }
        }
      ]
    },
    {
      "cell_type": "code",
      "metadata": {
        "colab": {
          "base_uri": "https://localhost:8080/"
        },
        "id": "6FFEHnXNcArB",
        "outputId": "470bd771-6bc3-4d24-a6e7-5e3a1cf1a1a8"
      },
      "source": [
        "\"\"\"\n",
        "Correlation\n",
        "This will be used to check the strength of the variables in terms of relationship\n",
        "The pearson correlation coefficient will be used to determine the relationship between the respondents age and the household size\n",
        "\"\"\"\n",
        "p_coeff = FinancialDataset[\"respondent_age\"].corr(FinancialDataset[\"household_size\"], method=\"pearson\") \n",
        "print(p_coeff)\n",
        "\n",
        "# Checking whether you have to define the pearson\n",
        "coeff = FinancialDataset[\"respondent_age\"].corr(FinancialDataset[\"household_size\"]) \n",
        "print(coeff)\n",
        "\"\"\"\n",
        "Correlation coefficients between -0.20 and 0.20 are generally considered weak, \n",
        "A negative (inverse) correlation occurs when the correlation coefficient is less than 0 \n",
        "and indicates that both variables(respondent age and household size)  are known to move in the opposite direction. \n",
        "-0.1197\n",
        "There is a very weak negative correlation matrix between the two variables and hence will not be considered important.\n",
        "\"\"\""
      ],
      "execution_count": null,
      "outputs": [
        {
          "output_type": "stream",
          "name": "stdout",
          "text": [
            "-0.11970919507762415\n",
            "-0.11970919507762415\n"
          ]
        }
      ]
    },
    {
      "cell_type": "code",
      "metadata": {
        "colab": {
          "base_uri": "https://localhost:8080/",
          "height": 488
        },
        "id": "ZcDyAcvofEGw",
        "outputId": "2eff031b-5187-421c-9711-0a5ada1fb141"
      },
      "source": [
        "plt.figure(figsize=(12, 8))\n",
        "FinancialDataset_corr = FinancialDataset.corr()\n",
        "sns.heatmap(FinancialDataset_corr, \n",
        "            xticklabels = FinancialDataset_corr.columns.values,\n",
        "            yticklabels = FinancialDataset_corr.columns.values,\n",
        "            annot = True);"
      ],
      "execution_count": null,
      "outputs": [
        {
          "output_type": "display_data",
          "data": {
            "image/png": "[encoded data removed]",
            "text/plain": [
              "<Figure size 864x576 with 2 Axes>"
            ]
          },
          "metadata": {
            "needs_background": "light"
          }
        }
      ]
    },
    {
      "cell_type": "code",
      "metadata": {
        "colab": {
          "base_uri": "https://localhost:8080/",
          "height": 286
        },
        "id": "lTgNQBiEg_ae",
        "outputId": "6d23abc0-426e-45ac-9bff-e6e659194e5d"
      },
      "source": [
        "#Stacked bar plot with two-level group byPermalink\n",
        "\n",
        "FinancialDataset.groupby(['has_a_bank_account','type_of_location']).size().unstack().plot(kind='bar',stacked=True)\n",
        "plt.show()\n",
        "# From the stacked bar chart individuals with no bank accounts in the rural area were more than those in the urban areas\n",
        "# For those that have bank acoounts the number appears to be the same for both."
      ],
      "execution_count": null,
      "outputs": [
        {
          "output_type": "display_data",
          "data": {
            "image/png": "[encoded data removed]",
            "text/plain": [
              "<Figure size 432x288 with 1 Axes>"
            ]
          },
          "metadata": {
            "needs_background": "light"
          }
        }
      ]
    },
    {
      "cell_type": "code",
      "metadata": {
        "colab": {
          "base_uri": "https://localhost:8080/",
          "height": 286
        },
        "id": "OXo_k8Is3stJ",
        "outputId": "24621db6-1fb7-470b-9424-37fb2646427c"
      },
      "source": [
        "FinancialDataset.groupby(['has_a_bank_account','type_of_job']).size().unstack().plot(kind='bar',stacked=True)\n",
        "\n",
        "plt.show()\n",
        "\n",
        "#Many of those who had bank accounts were farmers/fishers and self employmed\n",
        "#Most of those who had checking account were self employed, formally and those doing farming and fishing\n",
        "#It is worth noting that individuals that are formally employed private, self employed and in fishing and farming business were nearly equal\n",
        "#in terms of having a bank account.\n",
        "#Inaddition based on the type of job ,those who were  self employed,farmers and fishermen as well as those with remittance dependent\n",
        "#took a bigger proportion of those who did not have bank accounts.\n"
      ],
      "execution_count": null,
      "outputs": [
        {
          "output_type": "display_data",
          "data": {
            "image/png": "[encoded data removed]",
            "text/plain": [
              "<Figure size 432x288 with 1 Axes>"
            ]
          },
          "metadata": {
            "needs_background": "light"
          }
        }
      ]
    },
    {
      "cell_type": "code",
      "metadata": {
        "colab": {
          "base_uri": "https://localhost:8080/",
          "height": 667
        },
        "id": "YKpH-YwVa9ef",
        "outputId": "e1ef578f-8603-4217-bd2b-b6f2ab936843"
      },
      "source": [
        "# create a crosstab/frequency table for the countries and bank account possession\n",
        "countries_bankacc= pd.crosstab(index=FinancialDataset['country'], columns=FinancialDataset['has_a_bank_account'])\n",
        "\n",
        "print(countries_bankacc)\n",
        "# plot chart for the frequencies represented in the crosstab dataframe \n",
        "countries_bankacc.plot(kind=\"bar\", figsize=(8,8),stacked=True)\n",
        "# labelling axes and formatting chart\n",
        "plt.title(\"Bank account possession by country\")\n",
        "plt.ylabel(\"Distribution across the population\")\n",
        "# From the graph below Kenya has the most number of people with bank accounts while Uganda has the least \n",
        "# Overall the number of those without bank accounts exceeded those that have"
      ],
      "execution_count": null,
      "outputs": [
        {
          "output_type": "stream",
          "name": "stdout",
          "text": [
            "has_a_bank_account    No   Yes\n",
            "country                       \n",
            "Kenya               4544  1520\n",
            "Rwanda              7687   997\n",
            "Tanzania            5901   599\n",
            "Uganda              1914   181\n"
          ]
        },
        {
          "output_type": "execute_result",
          "data": {
            "text/plain": [
              "Text(0, 0.5, 'Distribution across the population')"
            ]
          },
          "metadata": {},
          "execution_count": 58
        },
        {
          "output_type": "display_data",
          "data": {
            "image/png": "[encoded data removed]",
            "text/plain": [
              "<Figure size 576x576 with 1 Axes>"
            ]
          },
          "metadata": {
            "needs_background": "light"
          }
        }
      ]
    },
    {
      "cell_type": "code",
      "metadata": {
        "colab": {
          "base_uri": "https://localhost:8080/",
          "height": 831
        },
        "id": "UCOx8_MndL6_",
        "outputId": "adc322d8-db27-4e8b-9722-cd21043af9db"
      },
      "source": [
        "\"\"\"\n",
        "Demographic analysis\n",
        "Here we check the relationship of the level of education and the possesion of a bank account \n",
        "\"\"\"\n",
        "# create crosstab\n",
        "edu_bank = pd.crosstab(index=FinancialDataset['level_of_educuation'], columns=FinancialDataset['has_a_bank_account'])\n",
        "print(edu_bank)\n",
        "# plot chart\n",
        "edu_bank.plot(kind=\"bar\", figsize=(8,8))\n",
        "# format & label chart\n",
        "plt.title(\"Relation of Education level to Bank account possession\")\n",
        "plt.ylabel(\"Distribution across the population\")\n",
        "# From the graph it can be deduced that the level of education influences an individual to have a bank account. And the more specialized \n",
        "# the education the more likelihood of one having a bank account. At the Vocational and Tertiary education the number of those having \n",
        "# bank accounts exceed those that do not have. "
      ],
      "execution_count": null,
      "outputs": [
        {
          "output_type": "stream",
          "name": "stdout",
          "text": [
            "has_a_bank_account                  No   Yes\n",
            "level_of_educuation                         \n",
            "6                                   22     5\n",
            "No formal education               4291   176\n",
            "Other/Dont know/RTA                  2     6\n",
            "Primary education                11606  1083\n",
            "Secondary education               3226   981\n",
            "Tertiary education                 554   590\n",
            "Vocational/Specialised training    345   456\n"
          ]
        },
        {
          "output_type": "execute_result",
          "data": {
            "text/plain": [
              "Text(0, 0.5, 'Distribution across the population')"
            ]
          },
          "metadata": {},
          "execution_count": 60
        },
        {
          "output_type": "display_data",
          "data": {
            "image/png": "[encoded data removed]",
            "text/plain": [
              "<Figure size 576x576 with 1 Axes>"
            ]
          },
          "metadata": {
            "needs_background": "light"
          }
        }
      ]
    },
    {
      "cell_type": "code",
      "metadata": {
        "colab": {
          "base_uri": "https://localhost:8080/",
          "height": 635
        },
        "id": "TXwWa4oCfOEP",
        "outputId": "5a3976d7-71dd-4fc8-b765-58cb77aa99ea"
      },
      "source": [
        "# Age and Bank Account \n",
        "# create crosstab dataframe\n",
        "age_bank = pd.crosstab(index=FinancialDataset['respondent_age'], columns=FinancialDataset['has_a_bank_account'])\n",
        "print(age_bank)\n",
        "# plot chart\n",
        "age_bank.plot(kind=\"bar\", figsize=(20,5))\n",
        "# format and label chart\n",
        "plt.title(\"Relation of respondent age and possession of bank account\")\n",
        "plt.ylabel(\"Distribution across the population\")\n",
        "# The greatest spread of the age set that has a bank account is between 22 years to 50 years.  "
      ],
      "execution_count": null,
      "outputs": [
        {
          "output_type": "stream",
          "name": "stdout",
          "text": [
            "has_a_bank_account   No  Yes\n",
            "respondent_age              \n",
            "16.0                455    5\n",
            "17.0                464   10\n",
            "18.0                562   21\n",
            "19.0                438   28\n",
            "20.0                586   36\n",
            "...                 ...  ...\n",
            "96.0                  3    0\n",
            "97.0                  1    0\n",
            "98.0                  6    0\n",
            "99.0                  2    0\n",
            "100.0                 5    0\n",
            "\n",
            "[85 rows x 2 columns]\n"
          ]
        },
        {
          "output_type": "execute_result",
          "data": {
            "text/plain": [
              "Text(0, 0.5, 'Distribution across the population')"
            ]
          },
          "metadata": {},
          "execution_count": 61
        },
        {
          "output_type": "display_data",
          "data": {
            "image/png": "[encoded data removed]",
            "text/plain": [
              "<Figure size 1440x360 with 1 Axes>"
            ]
          },
          "metadata": {
            "needs_background": "light"
          }
        }
      ]
    },
    {
      "cell_type": "code",
      "metadata": {
        "colab": {
          "base_uri": "https://localhost:8080/",
          "height": 627
        },
        "id": "1DwqnENigOWX",
        "outputId": "e9b76fe0-fce0-45e9-c8e9-eded86003350"
      },
      "source": [
        "# Gender and Possession of Bank Account \n",
        "# create crosstab dataframe\n",
        "gender_bank = pd.crosstab(index=FinancialDataset['gender_of_respondent'], columns=FinancialDataset['has_a_bank_account'])\n",
        "print(gender_bank)\n",
        "# plot of the relation of gender to individuals possession to bank account\n",
        "gender_bank.plot(kind=\"bar\", figsize=(8,8))\n",
        "# formatting&labelling chart\n",
        "plt.title(\"Relation of gender and possession of bank account\")\n",
        "plt.ylabel(\"Distribution across the population\")\n",
        "# From the respondents most male have bank accounts than female. "
      ],
      "execution_count": null,
      "outputs": [
        {
          "output_type": "stream",
          "name": "stdout",
          "text": [
            "has_a_bank_account       No   Yes\n",
            "gender_of_respondent             \n",
            "Female                12287  1480\n",
            "Male                   7759  1817\n"
          ]
        },
        {
          "output_type": "execute_result",
          "data": {
            "text/plain": [
              "Text(0, 0.5, 'Distribution across the population')"
            ]
          },
          "metadata": {},
          "execution_count": 62
        },
        {
          "output_type": "display_data",
          "data": {
            "image/png": "[encoded data removed]",
            "text/plain": [
              "<Figure size 576x576 with 1 Axes>"
            ]
          },
          "metadata": {
            "needs_background": "light"
          }
        }
      ]
    },
    {
      "cell_type": "code",
      "metadata": {
        "colab": {
          "base_uri": "https://localhost:8080/",
          "height": 760
        },
        "id": "cCquLG0Qg3fY",
        "outputId": "ebc84542-c04b-4166-af2e-06746ac803b5"
      },
      "source": [
        "# Marital Status and Bank Account \n",
        "# create crosstab dataframe\n",
        "marital_bank = pd.crosstab(index=FinancialDataset['marital_status'], columns=FinancialDataset['has_a_bank_account'])\n",
        "print(marital_bank)\n",
        "# plot chart\n",
        "marital_bank.plot(kind=\"bar\", figsize=(8,8))\n",
        "# formatting&labelling\n",
        "plt.title(\" Marital status and possession of bank account\")\n",
        "plt.ylabel(\"Distribution across the population\")\n",
        "# Most of the respondents that are married or living together have bank accounts with the divorced or separated being the least with \n",
        "# bank accounts "
      ],
      "execution_count": null,
      "outputs": [
        {
          "output_type": "stream",
          "name": "stdout",
          "text": [
            "has_a_bank_account         No   Yes\n",
            "marital_status                     \n",
            "Divorced/Seperated       1817   232\n",
            "Dont know                   6     2\n",
            "Married/Living together  8839  1861\n",
            "Single/Never Married     6944   959\n",
            "Widowed                  2440   243\n"
          ]
        },
        {
          "output_type": "execute_result",
          "data": {
            "text/plain": [
              "Text(0, 0.5, 'Distribution across the population')"
            ]
          },
          "metadata": {},
          "execution_count": 63
        },
        {
          "output_type": "display_data",
          "data": {
            "image/png": "[encoded data removed]",
            "text/plain": [
              "<Figure size 576x576 with 1 Axes>"
            ]
          },
          "metadata": {
            "needs_background": "light"
          }
        }
      ]
    },
    {
      "cell_type": "code",
      "metadata": {
        "colab": {
          "base_uri": "https://localhost:8080/",
          "height": 889
        },
        "id": "6JjZkTdWhquG",
        "outputId": "369114c8-df97-4930-93e8-e8bc131c50be"
      },
      "source": [
        "# Effect on employment status on having a bank account\n",
        "# create crosstab dataframe\n",
        "employ_bank = pd.crosstab(index=FinancialDataset['type_of_job'], columns=FinancialDataset['has_a_bank_account'])\n",
        "print(employ_bank)\n",
        "# plot chart from the dataframe\n",
        "employ_bank.plot(kind=\"bar\", figsize=(8,8), stacked=True)\n",
        "# labelling chart\n",
        "plt.title(\"Effect of employment status to possession of bank account\")\n",
        "plt.ylabel(\"Distribution across the population\")\n",
        "# A significant number of individuals that are self employed, do fishing and farming, and those that are formally employed \n",
        "# in private companies do have bank accounts "
      ],
      "execution_count": null,
      "outputs": [
        {
          "output_type": "stream",
          "name": "stdout",
          "text": [
            "has_a_bank_account              No  Yes\n",
            "type_of_job                            \n",
            "Dont Know/Refuse to answer     111   14\n",
            "Farming and Fishing           4788  634\n",
            "Formally employed Government    87  299\n",
            "Formally employed Private      481  567\n",
            "Government Dependent           197   50\n",
            "Informally employed           5110  440\n",
            "No Income                      605   13\n",
            "Other Income                   881  196\n",
            "Remittance Dependent          2269  240\n",
            "Self employed                 5517  844\n"
          ]
        },
        {
          "output_type": "execute_result",
          "data": {
            "text/plain": [
              "Text(0, 0.5, 'Distribution across the population')"
            ]
          },
          "metadata": {},
          "execution_count": 64
        },
        {
          "output_type": "display_data",
          "data": {
            "image/png": "[encoded data removed]",
            "text/plain": [
              "<Figure size 576x576 with 1 Axes>"
            ]
          },
          "metadata": {
            "needs_background": "light"
          }
        }
      ]
    },
    {
      "cell_type": "code",
      "metadata": {
        "colab": {
          "base_uri": "https://localhost:8080/",
          "height": 621
        },
        "id": "lul7f4Y-i1OB",
        "outputId": "5e5cd6ae-3ac1-46f2-8507-c8f59407fbe5"
      },
      "source": [
        "# Location and Bank Account \n",
        "# create crosstab dataframe\n",
        "location_bank = pd.crosstab(index=FinancialDataset['type_of_location'], columns=FinancialDataset['has_a_bank_account'])\n",
        "print(location_bank)\n",
        "# plot chart\n",
        "location_bank.plot(kind=\"bar\", figsize=(8,8))\n",
        "# label chart\n",
        "plt.title(\"Effect of area of residence to possession of bank account\")\n",
        "plt.ylabel(\"Distribution across the population\")\n",
        "# The area of location it appears does not influence the possession of a bank account "
      ],
      "execution_count": null,
      "outputs": [
        {
          "output_type": "stream",
          "name": "stdout",
          "text": [
            "has_a_bank_account     No   Yes\n",
            "type_of_location               \n",
            "Rural               12601  1663\n",
            "Urban                7445  1634\n"
          ]
        },
        {
          "output_type": "execute_result",
          "data": {
            "text/plain": [
              "Text(0, 0.5, 'Distribution across the population')"
            ]
          },
          "metadata": {},
          "execution_count": 65
        },
        {
          "output_type": "display_data",
          "data": {
            "image/png": "[encoded data removed]",
            "text/plain": [
              "<Figure size 576x576 with 1 Axes>"
            ]
          },
          "metadata": {
            "needs_background": "light"
          }
        }
      ]
    },
    {
      "cell_type": "code",
      "metadata": {
        "colab": {
          "base_uri": "https://localhost:8080/",
          "height": 942
        },
        "id": "hhuNcnTKjRS8",
        "outputId": "428bb174-5fb9-4b80-a33b-dc0995fdda78"
      },
      "source": [
        "# Household size and Possession of Bank Account \n",
        "# create crosstab dataframe\n",
        "housesize_bank = pd.crosstab(index=FinancialDataset['household_size'], columns=FinancialDataset['has_a_bank_account'])\n",
        "print(housesize_bank)\n",
        "# plot chart\n",
        "housesize_bank.plot(kind=\"bar\", figsize=(8,8), stacked=True)\n",
        "# label chart\n",
        "plt.title(\" Household size to possession of bank account\")\n",
        "plt.ylabel(\"Distribution across the population\")\n",
        "# The spread of the people with bank accounts is mostly with households that are between 1 to 5 "
      ],
      "execution_count": null,
      "outputs": [
        {
          "output_type": "stream",
          "name": "stdout",
          "text": [
            "has_a_bank_account    No  Yes\n",
            "household_size               \n",
            "0.0                   35    1\n",
            "1.0                 3257  671\n",
            "2.0                 4445  627\n",
            "3.0                 3011  503\n",
            "4.0                 2728  472\n",
            "5.0                 2304  412\n",
            "6.0                 1761  268\n",
            "7.0                 1201  177\n",
            "8.0                  655   85\n",
            "9.0                  318   36\n",
            "10.0                 166   25\n",
            "11.0                  60    6\n",
            "12.0                  59    7\n",
            "13.0                  23    2\n",
            "14.0                   7    2\n",
            "15.0                   9    2\n",
            "16.0                   4    0\n",
            "17.0                   0    1\n",
            "18.0                   1    0\n",
            "20.0                   1    0\n",
            "21.0                   1    0\n"
          ]
        },
        {
          "output_type": "execute_result",
          "data": {
            "text/plain": [
              "Text(0, 0.5, 'Distribution across the population')"
            ]
          },
          "metadata": {},
          "execution_count": 66
        },
        {
          "output_type": "display_data",
          "data": {
            "image/png": "[encoded data removed]",
            "text/plain": [
              "<Figure size 576x576 with 1 Axes>"
            ]
          },
          "metadata": {
            "needs_background": "light"
          }
        }
      ]
    },
    {
      "cell_type": "code",
      "metadata": {
        "colab": {
          "base_uri": "https://localhost:8080/",
          "height": 607
        },
        "id": "bnS-pqFekHED",
        "outputId": "7f01b63a-bbf0-43ae-a58c-2bf3091b34a7"
      },
      "source": [
        "# Cellphone accessibilty and Bank Account \n",
        "# create crosstab dataframe\n",
        "cellphone_bank = pd.crosstab(index=FinancialDataset['cell_phone_access'], columns=FinancialDataset['has_a_bank_account'])\n",
        "print(cellphone_bank)\n",
        "# plot chart\n",
        "cellphone_bank.plot(kind=\"bar\", figsize=(8,8))\n",
        "# labelling chart\n",
        "plt.title(\"Cell phone accessibility to possession of bank account\")\n",
        "plt.ylabel(\"Distribution across the population\")\n",
        "# Those individuals with cellphone accesibility appear to the most with bank accounts "
      ],
      "execution_count": null,
      "outputs": [
        {
          "output_type": "stream",
          "name": "stdout",
          "text": [
            "has_a_bank_account     No   Yes\n",
            "cell_phone_access              \n",
            "No                   5905   104\n",
            "Yes                 14141  3193\n"
          ]
        },
        {
          "output_type": "execute_result",
          "data": {
            "text/plain": [
              "Text(0, 0.5, 'Distribution across the population')"
            ]
          },
          "metadata": {},
          "execution_count": 67
        },
        {
          "output_type": "display_data",
          "data": {
            "image/png": "[encoded data removed]",
            "text/plain": [
              "<Figure size 576x576 with 1 Axes>"
            ]
          },
          "metadata": {
            "needs_background": "light"
          }
        }
      ]
    },
    {
      "cell_type": "code",
      "metadata": {
        "colab": {
          "base_uri": "https://localhost:8080/",
          "height": 756
        },
        "id": "TrzsN2IRkwmw",
        "outputId": "4b43154d-3e26-479b-d116-44263646713e"
      },
      "source": [
        "# Head of household relationship and Bank Account \n",
        "# create crosstab dataframe\n",
        "relation_withhead_bank = pd.crosstab(index=FinancialDataset['the_relathip_with_head'], columns=FinancialDataset['has_a_bank_account'])\n",
        "print(relation_withhead_bank)\n",
        "# plot chart\n",
        "relation_withhead_bank.plot(kind=\"bar\", figsize=(8,8), stacked=True)\n",
        "# label chart\n",
        "plt.title(\"Relation of respondent's relationship with head of household to possession of bank account\")\n",
        "plt.ylabel(\"Distribution across the population\")\n",
        "# Most of the respondents with a relationship with the head of the household have bank accounts followed by those with a relationship \n",
        "# with the spouse "
      ],
      "execution_count": null,
      "outputs": [
        {
          "output_type": "stream",
          "name": "stdout",
          "text": [
            "has_a_bank_account         No   Yes\n",
            "the_relathip_with_head             \n",
            "Child                    2028   193\n",
            "Head of Household       10471  2259\n",
            "Other non-relatives       169    20\n",
            "Other relative            598    65\n",
            "Parent                   1004    65\n",
            "Spouse                   5776   695\n"
          ]
        },
        {
          "output_type": "execute_result",
          "data": {
            "text/plain": [
              "Text(0, 0.5, 'Distribution across the population')"
            ]
          },
          "metadata": {},
          "execution_count": 70
        },
        {
          "output_type": "display_data",
          "data": {
            "image/png": "[encoded data removed]",
            "text/plain": [
              "<Figure size 576x576 with 1 Axes>"
            ]
          },
          "metadata": {
            "needs_background": "light"
          }
        }
      ]
    },
    {
      "cell_type": "markdown",
      "metadata": {
        "id": "LmYH_UsynYvv"
      },
      "source": [
        "Multi- Variate Analysis \n",
        "\n",
        "For this analysis, the Principle Component Analysis will be used since it calculates an uncorrelated set of variables known as principal components. They are then ordered so that the first few retain most of the variation present in all the original variables \n"
      ]
    },
    {
      "cell_type": "code",
      "metadata": {
        "id": "6GoK34B3oL5P"
      },
      "source": [
        "# Since PCA deals with numerical values, there is need to change the categorical values into numerical data for analysis\n",
        "# Creating dummy variables to perform PCA with all associated variable \n",
        "\n",
        "     "
      ],
      "execution_count": null,
      "outputs": []
    },
    {
      "cell_type": "code",
      "metadata": {
        "id": "nckwoX8y0jkG"
      },
      "source": [
        "#Preprocessing\n",
        "#Dividing the features into the feature set and corresponding labels: X and y respectively.\n",
        "X = FinancialDataset.drop('has_a_bank_account', axis = 1)\n",
        "y = FinancialDataset.iloc[:, 2]"
      ],
      "execution_count": null,
      "outputs": []
    },
    {
      "cell_type": "code",
      "metadata": {
        "id": "ckpdwnYi72Zx"
      },
      "source": [
        "X = pd.get_dummies(X)"
      ],
      "execution_count": null,
      "outputs": []
    },
    {
      "cell_type": "code",
      "metadata": {
        "id": "9t03aWFc8rty"
      },
      "source": [
        "# Splitting the dataset into training and test \n",
        "from sklearn.model_selection import train_test_split\n",
        "\n",
        "X_train, X_test, y_train, y_test = train_test_split(X, y, test_size=0.2, random_state=0)"
      ],
      "execution_count": null,
      "outputs": []
    },
    {
      "cell_type": "code",
      "metadata": {
        "id": "rcMWS8ev8uTR"
      },
      "source": [
        " # Normalization\n",
        "from sklearn.preprocessing import StandardScaler\n",
        "\n",
        "sc = StandardScaler()\n",
        "X_train = sc.fit_transform(X_train)\n",
        "X_test = sc.transform(X_test)"
      ],
      "execution_count": null,
      "outputs": []
    },
    {
      "cell_type": "code",
      "metadata": {
        "id": "nk8E6q4j83zu"
      },
      "source": [
        "#Applying PCA\n",
        "from sklearn.decomposition import PCA\n",
        "\n",
        "pca = PCA()\n",
        "X_train = pca.fit_transform(X_train)\n",
        "X_test = pca.transform(X_test)"
      ],
      "execution_count": null,
      "outputs": []
    },
    {
      "cell_type": "code",
      "metadata": {
        "colab": {
          "base_uri": "https://localhost:8080/"
        },
        "id": "03dyV9Hg8_-Z",
        "outputId": "9930561d-4fff-4141-a016-1fe7117b338e"
      },
      "source": [
        "#To establish the variance caused by each of the principle components \n",
        "explained_variance = pca.explained_variance_ratio_\n",
        "explained_variance"
      ],
      "execution_count": null,
      "outputs": [
        {
          "output_type": "execute_result",
          "data": {
            "text/plain": [
              "array([1.00511689e-01, 7.43240561e-02, 7.06662394e-02, 5.33472167e-02,\n",
              "       5.16174483e-02, 4.46360668e-02, 4.12703943e-02, 3.62989264e-02,\n",
              "       3.32010133e-02, 3.22769539e-02, 3.03331598e-02, 2.71748377e-02,\n",
              "       2.70411694e-02, 2.57420089e-02, 2.56077511e-02, 2.52872934e-02,\n",
              "       2.49747055e-02, 2.48079311e-02, 2.45012277e-02, 2.44189907e-02,\n",
              "       2.42870816e-02, 2.38726805e-02, 2.25133440e-02, 2.10849729e-02,\n",
              "       2.00826731e-02, 1.95180795e-02, 1.57888370e-02, 1.33313054e-02,\n",
              "       1.17535221e-02, 1.11941927e-02, 9.55712430e-03, 8.97710745e-03,\n",
              "       1.98224355e-32, 5.43752389e-33, 4.76912871e-33, 3.02401926e-33,\n",
              "       1.81528133e-33, 8.09102235e-34, 5.61668666e-34, 2.23012042e-35])"
            ]
          },
          "metadata": {},
          "execution_count": 108
        }
      ]
    },
    {
      "cell_type": "code",
      "metadata": {
        "id": "RsFrhOaO9KdS"
      },
      "source": [
        "\n",
        "from sklearn.decomposition import PCA\n",
        "\n",
        "pca = PCA(n_components=1)\n",
        "X_train = pca.fit_transform(X_train)\n",
        "X_test = pca.transform(X_test)"
      ],
      "execution_count": null,
      "outputs": []
    },
    {
      "cell_type": "code",
      "metadata": {
        "id": "v63kBTSP9POJ"
      },
      "source": [
        "#Training and Making Predictions\n",
        "from sklearn.ensemble import RandomForestClassifier\n",
        "\n",
        "classifier = RandomForestClassifier(max_depth=2, random_state=0)\n",
        "classifier.fit(X_train, y_train)\n",
        "\n",
        "# Predicting the Test set results\n",
        "y_pred = classifier.predict(X_test)"
      ],
      "execution_count": null,
      "outputs": []
    },
    {
      "cell_type": "code",
      "metadata": {
        "colab": {
          "base_uri": "https://localhost:8080/"
        },
        "id": "XP81XpeF9Te5",
        "outputId": "e102cce6-db10-4e13-93f3-3432d045a4dd"
      },
      "source": [
        "# Performance Evaluation\n",
        "# \n",
        "from sklearn.metrics import confusion_matrix\n",
        "from sklearn.metrics import accuracy_score\n",
        "\n",
        "cm = confusion_matrix(y_test, y_pred)\n",
        "print(cm)\n",
        "print('Accuracy' , accuracy_score(y_test, y_pred))\n"
      ],
      "execution_count": null,
      "outputs": [
        {
          "output_type": "stream",
          "name": "stdout",
          "text": [
            "[[2291  560]\n",
            " [ 198 1620]]\n",
            "Accuracy 0.8376526022702935\n"
          ]
        }
      ]
    },
    {
      "cell_type": "code",
      "metadata": {
        "colab": {
          "base_uri": "https://localhost:8080/"
        },
        "id": "BNqaUiV2BDbf",
        "outputId": "05b41fd7-0245-4d7e-b20f-78309f389874"
      },
      "source": [
        "from sklearn.linear_model import LogisticRegression\n",
        "classifier = LogisticRegression()\n",
        "\n",
        "classifier.fit(X_train, y_train)"
      ],
      "execution_count": null,
      "outputs": [
        {
          "output_type": "execute_result",
          "data": {
            "text/plain": [
              "LogisticRegression(C=1.0, class_weight=None, dual=False, fit_intercept=True,\n",
              "                   intercept_scaling=1, l1_ratio=None, max_iter=100,\n",
              "                   multi_class='auto', n_jobs=None, penalty='l2',\n",
              "                   random_state=None, solver='lbfgs', tol=0.0001, verbose=0,\n",
              "                   warm_start=False)"
            ]
          },
          "metadata": {},
          "execution_count": 113
        }
      ]
    },
    {
      "cell_type": "code",
      "metadata": {
        "id": "sAib8VGjBKFO"
      },
      "source": [
        "y_pred = classifier.predict(X_test)"
      ],
      "execution_count": null,
      "outputs": []
    },
    {
      "cell_type": "code",
      "metadata": {
        "colab": {
          "base_uri": "https://localhost:8080/"
        },
        "id": "HkcA3jR7BOdh",
        "outputId": "6cdccbaf-8e05-405a-a565-048f4609fae7"
      },
      "source": [
        "from sklearn.metrics import confusion_matrix\n",
        "from sklearn.metrics import accuracy_score\n",
        "\n",
        "print(confusion_matrix(y_test, y_pred))\n",
        "print(accuracy_score(y_test, y_pred))"
      ],
      "execution_count": null,
      "outputs": [
        {
          "output_type": "stream",
          "name": "stdout",
          "text": [
            "[[2484  367]\n",
            " [ 473 1345]]\n",
            "0.8200899550224887\n"
          ]
        }
      ]
    },
    {
      "cell_type": "code",
      "metadata": {
        "colab": {
          "base_uri": "https://localhost:8080/"
        },
        "id": "10DUA_7lBf4B",
        "outputId": "4fae6ef4-c515-4e40-a52a-f867d15dfbf4"
      },
      "source": [
        "from sklearn.model_selection import train_test_split\n",
        "X_train, X_test, y_train, y_test = train_test_split(X, y, test_size = 0.25)\n",
        "\n",
        "\n",
        "from sklearn.preprocessing import StandardScaler\n",
        "sc = StandardScaler()\n",
        "X_train = sc.fit_transform(X_train)\n",
        "X_test = sc.transform(X_test)\n",
        "\n",
        "#Principal Component Analysis\n",
        "\n",
        "from sklearn.decomposition import PCA\n",
        "pca = PCA()\n",
        "X_train = pca.fit_transform(X_train)\n",
        "X_test = pca.transform(X_test)\n",
        "\n",
        "from sklearn.linear_model import LogisticRegression\n",
        "classifier = LogisticRegression()\n",
        "classifier.fit(X_train, y_train)\n",
        "\n",
        "y_pred = classifier.predict(X_test)\n",
        "\n",
        "from sklearn.metrics import confusion_matrix\n",
        "from sklearn.metrics import accuracy_score\n",
        "\n",
        "\n",
        "print('The confusion matrix is',confusion_matrix(y_test, y_pred))\n",
        "print('\\n')\n",
        "print('The accuracy score is',accuracy_score(y_test, y_pred))\n",
        "print('\\n')\n",
        "\n",
        "#Explained Variance Ratio\n",
        "print(pca.explained_variance_ratio_)"
      ],
      "execution_count": null,
      "outputs": [
        {
          "output_type": "stream",
          "name": "stdout",
          "text": [
            "The confusion matrix is [[3631    0]\n",
            " [   0 2205]]\n",
            "\n",
            "\n",
            "The accuracy score is 1.0\n",
            "\n",
            "\n",
            "[1.01373448e-01 7.42465982e-02 7.05096998e-02 5.28932776e-02\n",
            " 5.16799012e-02 4.46125320e-02 4.08608330e-02 3.65090926e-02\n",
            " 3.35256021e-02 3.22731339e-02 3.06716214e-02 2.70799837e-02\n",
            " 2.69261129e-02 2.57917081e-02 2.56253025e-02 2.53226225e-02\n",
            " 2.49583400e-02 2.48824780e-02 2.46013465e-02 2.44468815e-02\n",
            " 2.41809764e-02 2.37086671e-02 2.24727783e-02 2.09107986e-02\n",
            " 2.00347115e-02 1.95306241e-02 1.56833292e-02 1.35166104e-02\n",
            " 1.16184791e-02 1.11437711e-02 9.48582037e-03 8.92291853e-03\n",
            " 1.99923874e-32 4.17428998e-33 3.11190354e-33 2.60063434e-33\n",
            " 2.13540649e-33 5.61962294e-34 2.43602654e-34 1.61784690e-34]\n"
          ]
        }
      ]
    },
    {
      "cell_type": "code",
      "metadata": {
        "colab": {
          "base_uri": "https://localhost:8080/"
        },
        "id": "n9euW2PZBnzh",
        "outputId": "6228000f-3339-44be-f990-fd97e2324f73"
      },
      "source": [
        "\n",
        "len(X.columns)"
      ],
      "execution_count": null,
      "outputs": [
        {
          "output_type": "execute_result",
          "data": {
            "text/plain": [
              "40"
            ]
          },
          "metadata": {},
          "execution_count": 117
        }
      ]
    },
    {
      "cell_type": "code",
      "metadata": {
        "colab": {
          "base_uri": "https://localhost:8080/"
        },
        "id": "YPGfePk6BpiV",
        "outputId": "7006f3c7-693a-486a-a605-582514fad520"
      },
      "source": [
        "import warnings\n",
        "warnings.filterwarnings(\"ignore\")\n",
        "\n",
        "accuracy = []\n",
        "\n",
        "for i in range(1, 40):\n",
        "\n",
        "  from sklearn.model_selection import train_test_split\n",
        "  X_train, X_test, y_train, y_test = train_test_split(X, y, test_size = 0.25)\n",
        "\n",
        "\n",
        "  from sklearn.preprocessing import StandardScaler\n",
        "  sc = StandardScaler()\n",
        "  X_train = sc.fit_transform(X_train)\n",
        "  X_test = sc.transform(X_test)\n",
        "\n",
        "  from sklearn.decomposition import PCA\n",
        "  pca = PCA(n_components = i)\n",
        "  X_train = pca.fit_transform(X_train)\n",
        "  X_test = pca.transform(X_test)\n",
        "\n",
        "  from sklearn.linear_model import LogisticRegression\n",
        "  classifier = LogisticRegression()\n",
        "  classifier.fit(X_train, y_train)\n",
        "\n",
        "  y_pred = classifier.predict(X_test)\n",
        "\n",
        "  from sklearn.metrics import confusion_matrix\n",
        "  from sklearn.metrics import accuracy_score\n",
        "  \n",
        "  accuracy.append(accuracy_score(y_test, y_pred))\n",
        "\n",
        "#print(confusion_matrix(y_test, y_pred))\n",
        "#print(accuracy_score(y_test, y_pred))\n",
        "#print(pca.explained_variance_ratio_)'''\n",
        "\n",
        "accuracy"
      ],
      "execution_count": null,
      "outputs": [
        {
          "output_type": "execute_result",
          "data": {
            "text/plain": [
              "[0.8154557916381083,\n",
              " 0.8300205620287868,\n",
              " 0.8212816997943797,\n",
              " 0.842871830020562,\n",
              " 0.907128169979438,\n",
              " 0.9014736120630569,\n",
              " 0.9261480466072652,\n",
              " 0.9156956819739548,\n",
              " 0.9275188485263879,\n",
              " 0.9381425633995888,\n",
              " 0.9835503769705277,\n",
              " 0.9813228238519534,\n",
              " 0.9952021932830706,\n",
              " 0.9953735435229609,\n",
              " 0.9972583961617546,\n",
              " 0.997943797121316,\n",
              " 0.9982864976010967,\n",
              " 0.997943797121316,\n",
              " 0.9993145990404386,\n",
              " 0.9998286497601097,\n",
              " 0.9998286497601097,\n",
              " 0.9996572995202193,\n",
              " 1.0,\n",
              " 1.0,\n",
              " 1.0,\n",
              " 1.0,\n",
              " 1.0,\n",
              " 1.0,\n",
              " 1.0,\n",
              " 1.0,\n",
              " 1.0,\n",
              " 1.0,\n",
              " 1.0,\n",
              " 1.0,\n",
              " 1.0,\n",
              " 1.0,\n",
              " 1.0,\n",
              " 1.0,\n",
              " 1.0]"
            ]
          },
          "metadata": {},
          "execution_count": 119
        }
      ]
    },
    {
      "cell_type": "markdown",
      "metadata": {
        "id": "_Fvs8odWAfFC"
      },
      "source": [
        "From the above we achieved optimal level of accuracy while significantly reducing the number of features in the dataset. The accuracy achieved for the feature set is 83.77% with one principal component and 82% with more. "
      ]
    },
    {
      "cell_type": "markdown",
      "metadata": {
        "id": "VE6n6NQREbrl"
      },
      "source": [
        "Summary of Findings\n",
        "\n",
        "Univariate analysis\n",
        "\n",
        "- A huge population of the respondents in the four countries did not have or use a bank account.\n",
        "- Most individuals live in rural areas\n",
        "- The most popular family/household size is 2\n",
        "a huge number of the respondents are of age 30, while the mean of the ages of all respondents was 39.\n",
        "- A large population of the respondents were female.\n",
        "- Most of the respondents were heads of the household, followed by spouses.\n",
        "- Most respondents in the population were married and the next most highest were single individuals who had bank accounts.\n",
        "- Most respondents had only studied upto primary level of education. \n",
        "- A huge number of the respondent population were self-employed\n",
        "\n",
        "Bivariate analysis:\n",
        "\n",
        "- Rwanda recorded a huge number of individuals without a bank account. Kenya however, recorded a relatively high number of individuals possessing a bank account.\n",
        "- The distribution of accessibility to cell phone was fairly distributed across the countries with Tanzania having a relatively huge population with no access to a cell phone\n",
        "- Most respondents from Tanzania reside in urban areas, while in Rwanda a huge population live in rural areas\n",
        "- In Tanzania, most respondents live in household sizes of 1 or 2 people\n",
        "- Most respondents in Kenya, Rwanda and Uganda are married while in \n",
        "- Uganda, a huge population are single/never married\n",
        "- A huge population of the respondents from Kenya and Rwanda do farming and fishing as their income source, while in Uganda and Tanzania,a huge population are self-employed\n",
        "- Most individuals who had gone through higher education i.e. tertiary level or vocational training, have/use a bank account, hence the bars are almost equal\n",
        "- A huge population of individuals of ages 30, 35, 40, 42 had bank accounts\n",
        "- As much as females dominated the respondents population, males who have/use a bank account were relatively more than the females"
      ]
    },
    {
      "cell_type": "code",
      "metadata": {
        "id": "K-Syvrq14WH1"
      },
      "source": [
        ""
      ],
      "execution_count": null,
      "outputs": []
    }
  ]
}